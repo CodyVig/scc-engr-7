{
 "cells": [
  {
   "cell_type": "markdown",
   "id": "a9dcb990",
   "metadata": {},
   "source": [
    "# Lab 2"
   ]
  },
  {
   "cell_type": "markdown",
   "id": "c79f3f68",
   "metadata": {},
   "source": [
    "## Problem 1"
   ]
  },
  {
   "cell_type": "markdown",
   "id": "42fb9f2b",
   "metadata": {},
   "source": [
    "Modify the code below from lecture to add a while loop that will check if the number entered by the user is able to be parsed into an int. \n",
    "If it is break out of the while loop and check if the number if a prime.\n",
    "If not, continually ask the user to enter a number. Use the <b>str.isnumeric()</b> function."
   ]
  },
  {
   "cell_type": "code",
   "execution_count": 1,
   "id": "a4e65bd4",
   "metadata": {},
   "outputs": [
    {
     "name": "stdin",
     "output_type": "stream",
     "text": [
      "Enter an int:  twelve\n"
     ]
    },
    {
     "name": "stdout",
     "output_type": "stream",
     "text": [
      "That is not an integer.\n"
     ]
    },
    {
     "name": "stdin",
     "output_type": "stream",
     "text": [
      "Enter an int:  12\n"
     ]
    },
    {
     "name": "stdout",
     "output_type": "stream",
     "text": [
      "is n prime? False\n"
     ]
    }
   ],
   "source": [
    "# add your while loop to this code \n",
    "\n",
    "while True:\n",
    "    user_str = input(\"Enter an int: \")\n",
    "    if user_str.isnumeric():\n",
    "        break\n",
    "    print(\"That is not an integer.\")\n",
    "\n",
    "# convert it to an int\n",
    "n = int(user_str)\n",
    "\n",
    "is_prime = True\n",
    "# loop through the numbers 2 to (n - 1)\n",
    "for m in range(2, n):    \n",
    "    # if n is evenly divisible by m, we already know n is not a prime\n",
    "    # so break out of the loop\n",
    "    if n % m == 0:\n",
    "        is_prime = False\n",
    "        break\n",
    "    \n",
    "print(\"is n prime?\", is_prime)    "
   ]
  },
  {
   "cell_type": "markdown",
   "id": "d93ac7ff",
   "metadata": {},
   "source": [
    "## Problem 2"
   ]
  },
  {
   "cell_type": "markdown",
   "id": "abb01f1e",
   "metadata": {},
   "source": [
    "Write code that will print out True if $a$ and $b$ are strictly between 0 and 1 and False otherwise. Check your code with different values for $a$ and $b$"
   ]
  },
  {
   "cell_type": "code",
   "execution_count": 2,
   "id": "8fa1560d",
   "metadata": {},
   "outputs": [
    {
     "name": "stdout",
     "output_type": "stream",
     "text": [
      "-0.7254039801978989 2.2109366323675363\n",
      "False\n"
     ]
    }
   ],
   "source": [
    "# import the random module to get some random numbers\n",
    "import random\n",
    "a = random.uniform(-1, 2)\n",
    "b = random.uniform(-1, 3)\n",
    "\n",
    "print(a, b)\n",
    "\n",
    "# fill in your code \n",
    "print((a > 0 and a < 1) and (b > 0 and b < 1))"
   ]
  },
  {
   "cell_type": "markdown",
   "id": "6015673d",
   "metadata": {},
   "source": [
    "## Problem 3"
   ]
  },
  {
   "cell_type": "markdown",
   "id": "1c1a9063",
   "metadata": {},
   "source": [
    "Fill in the code below so that the following table is printed out.\n",
    "Hint: Use a while loop and at each iteration multiply the loop variable by 2. Use the <b> round() </b> function to only print 2 decimal places.\n",
    "\n",
    "<code>\n",
    "n\tnsquared\tlog(n)\n",
    "2 \t 4 \t 0.69\n",
    "4 \t 16 \t 1.39\n",
    "8 \t 64 \t 2.08\n",
    "16 \t 256 \t 2.77\n",
    "32 \t 1024 \t 3.47\n",
    "64 \t 4096 \t 4.16\n",
    "128 \t 16384 \t 4.85\n",
    "256 \t 65536 \t 5.55\n",
    "512 \t 262144 \t 6.24\n",
    "</code>\n",
    "\n",
    "use <b> math.log()</b> to calculate the natural log of a number."
   ]
  },
  {
   "cell_type": "code",
   "execution_count": 3,
   "id": "a76b3e83",
   "metadata": {},
   "outputs": [
    {
     "name": "stdout",
     "output_type": "stream",
     "text": [
      "n\tnsquared\tlog(n)\n",
      "2\t4\t\t0.69\n",
      "4\t16\t\t1.39\n",
      "8\t64\t\t2.08\n",
      "16\t256\t\t2.77\n",
      "32\t1024\t\t3.47\n",
      "64\t4096\t\t4.16\n",
      "128\t16384\t\t4.85\n",
      "256\t65536\t\t5.55\n",
      "512\t262144\t\t6.24\n"
     ]
    }
   ],
   "source": [
    "import math\n",
    "\n",
    "n = 2\n",
    "print(\"n\\tnsquared\\tlog(n)\")\n",
    "\n",
    "# your code here\n",
    "while n <=512:\n",
    "    print(f\"{n}\", end=\"\")\n",
    "    print(f\"\\t{n**2}\", end=\"\")\n",
    "    print(f\"\\t\\t{round(math.log(n), 2)}\")\n",
    "    n*=2"
   ]
  },
  {
   "cell_type": "markdown",
   "id": "7448d68e",
   "metadata": {},
   "source": [
    "## Problem 4"
   ]
  },
  {
   "cell_type": "markdown",
   "id": "424177b0",
   "metadata": {},
   "source": [
    "Write a program that prints out all prime numbers between 2 and 500. "
   ]
  },
  {
   "cell_type": "code",
   "execution_count": 4,
   "id": "1bf99600",
   "metadata": {},
   "outputs": [
    {
     "name": "stdout",
     "output_type": "stream",
     "text": [
      "The following are prime:\n",
      "2, 3, 5, 7, 11, 13, 17, 19, 23, 29, 31, 37, 41, 43, 47, 53, 59, 61, 67, 71, 73, 79, 83, 89, 97, 101, 103, 107, 109, 113, 127, 131, 137, 139, 149, 151, 157, 163, 167, 173, 179, 181, 191, 193, 197, 199, 211, 223, 227, 229, 233, 239, 241, 251, 257, 263, 269, 271, 277, 281, 283, 293, 307, 311, 313, 317, 331, 337, 347, 349, 353, 359, 367, 373, 379, 383, 389, 397, 401, 409, 419, 421, 431, 433, 439, 443, 449, 457, 461, 463, 467, 479, 487, 491, 499, "
     ]
    }
   ],
   "source": [
    "# fill in your code for the above problem here\n",
    "print(\"The following are prime:\")\n",
    "\n",
    "for n in range(2, 501):\n",
    "    is_prime = True\n",
    "\n",
    "    # We need only check for factors up to the square root of n.\n",
    "    factor = 2\n",
    "    while factor**2 <= n: \n",
    "        if n % factor == 0:\n",
    "            is_prime = False\n",
    "            break\n",
    "        factor+=1\n",
    "    if is_prime:\n",
    "        print(f\"{n},\", end=\" \")"
   ]
  },
  {
   "cell_type": "markdown",
   "id": "71420ed8-adc3-4d24-ad17-18529767e9c5",
   "metadata": {},
   "source": [
    "### Sieve of Eratosthenes\n",
    "Here is an ancient method of generating primes which is much more computationally efficient than checking for divisors. It has a time complexity of $O(n \\log \\log n)$. The following is from the [Wikipedia page](https://en.wikipedia.org/wiki/Sieve_of_Eratosthenes):\n",
    "\n",
    "> To find all the prime numbers less than or equal to a given integer n by Eratosthenes' method:\n",
    ">\n",
    "> 1. Create a list of consecutive integers from 2 through n: (2, 3, 4, ..., n).\n",
    "> 2. Initially, let p equal 2, the smallest prime number.\n",
    "> 3. Enumerate the multiples of p by counting in increments of p from 2p to n, and mark them in the list (these will be 2p, 3p, 4p, ...; the > p itself should not be marked).\n",
    "> 4. Find the smallest number in the list greater than p that is not marked. If there was no such number, stop. Otherwise, let p now equal this new number (which is the next prime), and repeat from step 3.\n",
    "> 5. When the algorithm terminates, the numbers remaining not marked in the list are all the primes below n."
   ]
  },
  {
   "cell_type": "code",
   "execution_count": 5,
   "id": "ee767107-9378-4ae3-ae22-b169e283defb",
   "metadata": {},
   "outputs": [],
   "source": [
    "from math import sqrt\n",
    "\n",
    "\n",
    "def sieve(n):\n",
    "    \"\"\"\n",
    "    Runs the sieve of Eratosthenes to find all primes no larger than n.\n",
    "\n",
    "    :param n: The upper bound on the search.\n",
    "    :return: A complete list of primes no larger than `n`. \n",
    "    \"\"\"\n",
    "    sqrt_n = int(sqrt(n))\n",
    "    primes = {\n",
    "        k: True for k in range(2, n + 1)\n",
    "    }  # `{number, True}` if `number` is prime, `{number, False}` if composite.\n",
    "    for i in range(2, sqrt_n + 1):\n",
    "        if primes.get(i):\n",
    "            for j in range(i**2, n + 1, i):\n",
    "                primes[j] = False\n",
    "    return [key for key, value in primes.items() if value]"
   ]
  },
  {
   "cell_type": "code",
   "execution_count": 6,
   "id": "4237769a-68b1-40bf-bd16-a93eebdb6a43",
   "metadata": {},
   "outputs": [
    {
     "name": "stdout",
     "output_type": "stream",
     "text": [
      "[2, 3, 5, 7, 11, 13, 17, 19, 23, 29, 31, 37, 41, 43, 47, 53, 59, 61, 67, 71, 73, 79, 83, 89, 97, 101, 103, 107, 109, 113, 127, 131, 137, 139, 149, 151, 157, 163, 167, 173, 179, 181, 191, 193, 197, 199, 211, 223, 227, 229, 233, 239, 241, 251, 257, 263, 269, 271, 277, 281, 283, 293, 307, 311, 313, 317, 331, 337, 347, 349, 353, 359, 367, 373, 379, 383, 389, 397, 401, 409, 419, 421, 431, 433, 439, 443, 449, 457, 461, 463, 467, 479, 487, 491, 499, 503, 509, 521, 523, 541, 547, 557, 563, 569, 571, 577, 587, 593, 599, 601, 607, 613, 617, 619, 631, 641, 643, 647, 653, 659, 661, 673, 677, 683, 691, 701, 709, 719, 727, 733, 739, 743, 751, 757, 761, 769, 773, 787, 797, 809, 811, 821, 823, 827, 829, 839, 853, 857, 859, 863, 877, 881, 883, 887, 907, 911, 919, 929, 937, 941, 947, 953, 967, 971, 977, 983, 991, 997]\n"
     ]
    }
   ],
   "source": [
    "print(sieve(1000))"
   ]
  },
  {
   "cell_type": "markdown",
   "id": "bffbe638",
   "metadata": {},
   "source": [
    "## Problem 5"
   ]
  },
  {
   "cell_type": "markdown",
   "id": "ff850b19",
   "metadata": {},
   "source": [
    "Take your code for Problem 4 above and save it in a file called lab2_problem5.py. Now instead of finding all numbers between 2 and 500, print all prime numbers from 2 to `sys.argv[1]` command line argument. Be sure to include  `import sys` in your .py file. \n",
    "Practice running it below using %run:"
   ]
  },
  {
   "cell_type": "code",
   "execution_count": 7,
   "id": "65c5c83d",
   "metadata": {},
   "outputs": [
    {
     "name": "stdout",
     "output_type": "stream",
     "text": [
      "The following are prime:\n",
      "2, 3, 5, 7, 11, 13, 17, 19, 23, 29, 31, 37, 41, 43, 47, 53, 59, 61, 67, 71, 73, 79, 83, 89, 97, 101, 103, 107, 109, 113, 127, 131, 137, 139, 149, 151, 157, 163, 167, 173, 179, 181, 191, 193, 197, 199, 211, 223, 227, 229, 233, 239, 241, 251, 257, 263, 269, 271, 277, 281, 283, 293, 307, 311, 313, 317, 331, 337, 347, 349, 353, 359, 367, 373, 379, 383, 389, 397, 401, 409, 419, 421, 431, 433, 439, 443, 449, 457, 461, 463, 467, 479, 487, 491, 499, 503, 509, 521, 523, 541, 547, 557, 563, 569, 571, 577, 587, 593, 599, 601, 607, 613, 617, 619, 631, 641, 643, 647, 653, 659, 661, 673, 677, 683, 691, 701, 709, 719, 727, 733, 739, 743, 751, 757, 761, 769, 773, 787, 797, 809, 811, 821, 823, 827, 829, 839, 853, 857, 859, 863, 877, 881, 883, 887, 907, 911, 919, 929, 937, 941, 947, 953, 967, 971, 977, 983, 991, 997, "
     ]
    }
   ],
   "source": [
    "%run lab2_problem5.py 1000"
   ]
  }
 ],
 "metadata": {
  "kernelspec": {
   "display_name": "Python 3 (ipykernel)",
   "language": "python",
   "name": "python3"
  },
  "language_info": {
   "codemirror_mode": {
    "name": "ipython",
    "version": 3
   },
   "file_extension": ".py",
   "mimetype": "text/x-python",
   "name": "python",
   "nbconvert_exporter": "python",
   "pygments_lexer": "ipython3",
   "version": "3.11.4"
  }
 },
 "nbformat": 4,
 "nbformat_minor": 5
}
