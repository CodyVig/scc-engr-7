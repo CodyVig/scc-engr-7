{
 "cells": [
  {
   "cell_type": "markdown",
   "id": "cbc359be",
   "metadata": {},
   "source": [
    "# Lab 10 - Inheritance"
   ]
  },
  {
   "cell_type": "markdown",
   "id": "6e1ffbe1",
   "metadata": {},
   "source": [
    "## Problem 1"
   ]
  },
  {
   "cell_type": "markdown",
   "id": "00f50bb8",
   "metadata": {},
   "source": [
    "<b>(20 points) </b>\n",
    "Here are some classes: <b>Wheeled</b>, <b>Car </b>, <b>RedCar</b>, and <b> Tricycle</b>."
   ]
  },
  {
   "cell_type": "code",
   "execution_count": 1,
   "id": "865b0a08",
   "metadata": {},
   "outputs": [],
   "source": [
    "class Wheeled:\n",
    "    def __init__(self, name):\n",
    "        self.name = name\n",
    "    def move(self):\n",
    "        print(\"...moving ...\")\n",
    "\n",
    "class Car(Wheeled):\n",
    "    wheels = 4\n",
    "    def __init__(self, name, color, model):\n",
    "        super().__init__(name)\n",
    "        self.color = color\n",
    "        self.model = model\n",
    "        self.gas = 100\n",
    "        \n",
    "    def move(self):\n",
    "        if self.gas > 0:\n",
    "            print(\"...driving ...\")\n",
    "        else:\n",
    "            print(\"no gas, can't move :( \")\n",
    "\n",
    "class RedCar(Car):\n",
    "    def __init__(self, name, model):\n",
    "        super().__init__(name, \"red\", model)\n",
    "        self.model = model\n",
    "        self.gas = 100\n",
    "        \n",
    "    def move(self):\n",
    "        if self.gas > 0:\n",
    "            print(\"...driving ...\")\n",
    "        else:\n",
    "            print(\"no gas, can't move :( \")\n",
    "            \n",
    "class Tricycle(Wheeled):\n",
    "    wheels = 3\n",
    "    def __init__(self, name, color):\n",
    "        super().__init__(name)\n",
    "        self.color = color\n",
    "        \n",
    "    def paint(self, new_color):\n",
    "        self.color = new_color\n",
    "        "
   ]
  },
  {
   "cell_type": "markdown",
   "id": "6328c6dd",
   "metadata": {},
   "source": [
    "For each of the classes, list out the \n",
    "* class variables\n",
    "* instance variables\n",
    "* methods\n",
    "that  object of the class have access to. Also indicate their parent class (if any) and children classes (if any)"
   ]
  },
  {
   "cell_type": "markdown",
   "metadata": {},
   "source": [
    "```python\n",
    "class Wheeled:\n",
    "```\n",
    "* **Class variables:** There are no class variables.\n",
    "* **Instance variables:** Each instance has a `name` attribute.\n",
    "* **Methods:** Other than the constructor, each instance has access to a `move` method.\n",
    "* **Parent- and subclasses:** This does not subclass from any parent, but `Wheeled` is the parent to `Car` and `Tricycle`. `Wheeled` is also in some sense a grandfather class to `RedCar`, and so each `RedCar` object has access to `Wheeled` attributes; hence `RedCar` is a subclass as well.\n",
    "\n",
    "\n",
    "```python\n",
    "class Car(Wheeled):\n",
    "```\n",
    "* **Class variables:** All `Car` objects share a class variable of `Car.wheels == 4`.\n",
    "* **Instance variables:** Each `Car` object has a `name`, `color`, `model`, and `gas` attribute.\n",
    "* **Methods:** Other than the constructor, each instance has access to a new `move` method.\n",
    "* **Parent- and subclasses:** `Car` directly extends `Wheeled`, so `Wheeled` is a parent class, and `RedCar` is a subclassn of `Car`. \n",
    "\n",
    "```python\n",
    "class RedCar(Car):\n",
    "```\n",
    "* **Class variables:** `RedCar` objects have access to the class variable `wheels`, defined in the parent class `Car`. There are no new class variables defined in `RedCar`.\n",
    "* **Instance variables:** Each `RedCar` object has a `name`, `color == \"red\"`, `model`, and `gas` attribute.\n",
    "* **Methods:** `RedCar` has its own `move` method, though it is the same as the `move` method written in the parent class `Car`, so it could have been omitted without loss of functionality. There are no new methods, other than the constructor.\n",
    "* **Parent- and subclasses:** The direct parent class is `Car`, but since `Car` also extends `Wheeled`, `Wheeled` is also a parent class to `RedCar`. There are no subclasses.\n",
    "\n",
    "```python\n",
    "class Tricycle(Wheeled):\n",
    "```\n",
    "* **Class variables:** Each `Tricycle` object shares a class variable of `Tricycle.wheels == 3`.\n",
    "* **Instance variables:** Each `Tricycle` object has a `name` and `color` attribute.\n",
    "* **Methods:** `Tricycle` has access to the `move` method defined in its parent class, `Wheeled`. It also has access to the `paint` method defined in the `Tricycle` class directly.\n",
    "* **Parent- and subclasses:** `Tricycle` directly inherits from `Wheeled` and it has no subclasses.\n",
    "\n"
   ]
  },
  {
   "cell_type": "markdown",
   "id": "6c36ab95",
   "metadata": {},
   "source": [
    "# Problem 2"
   ]
  },
  {
   "cell_type": "markdown",
   "id": "d8ac4ca8",
   "metadata": {},
   "source": [
    "Let's use object oriented programming to build a small world. Our world will have rooms, characters, and items. We will do more with this in the next lab. For now, let's just build some classes and objects.\n",
    "\n",
    "Here is a class representing an **Item**. An **Item** has a name and a description, both of which are strings.\n",
    "The method `Item.describe()` prints out the Item's description."
   ]
  },
  {
   "cell_type": "code",
   "execution_count": 2,
   "id": "a99839ff",
   "metadata": {},
   "outputs": [],
   "source": [
    "class Item:\n",
    "    \"\"\" \n",
    "    Represents any Item.\n",
    "    \n",
    "    An Item has a name and a description. Both are strings.\n",
    "    \"\"\"\n",
    "    \n",
    "    def __init__(self, name, description):\n",
    "        self.name = name\n",
    "        self.description = description\n",
    "\n",
    "    def describe(self, end = \"\\n\"):\n",
    "        print(self.name + \": \" + self.description , end = end)"
   ]
  },
  {
   "cell_type": "markdown",
   "id": "534d5cbf",
   "metadata": {},
   "source": [
    "Here are some sample **Item**s."
   ]
  },
  {
   "cell_type": "code",
   "execution_count": 3,
   "id": "d09be913",
   "metadata": {},
   "outputs": [
    {
     "name": "stdout",
     "output_type": "stream",
     "text": [
      "book: This item is a book.\n",
      "yellow_pencil: This item is a pencil.\n"
     ]
    }
   ],
   "source": [
    "book = Item(\"book\", \"This item is a book.\")\n",
    "yellow_pencil = Item(\"yellow_pencil\", \"This item is a pencil.\")\n",
    "\n",
    "book.describe()\n",
    "yellow_pencil.describe()"
   ]
  },
  {
   "cell_type": "markdown",
   "id": "c71e330f",
   "metadata": {},
   "source": [
    "### Problem 2.1\n",
    "<b>20 points </b> Define two subclasses of <b>Item</b>: \n",
    "\n",
    "* One called <b>Coin</b> which represents a coin. \n",
    "    * A Coin object has the additional instance variable called `value`. \n",
    "    * Coil should have its own version of the `describe()` method which will print the `description` as well as the `value` variables. \n",
    "\n",
    "* Another called <b>Key</b> representing a key.\n",
    "    * A Key has an additional method called `use()` which will print the message \"...using key ...\"."
   ]
  },
  {
   "cell_type": "code",
   "execution_count": 4,
   "id": "b9583e28",
   "metadata": {},
   "outputs": [],
   "source": [
    "class Coin(Item):\n",
    "    \"\"\" \n",
    "    Represents a Coin.\n",
    "    \"\"\"\n",
    "\n",
    "    def __init__(self, name, description, value):\n",
    "        super().__init__(name, description)\n",
    "        self.value = value\n",
    "    \n",
    "    def describe(self):\n",
    "        super().describe(end = \" \")\n",
    "        print(f\"(valued at {self.value})\")\n",
    "\n",
    "class Key(Item):\n",
    "    \"\"\" \n",
    "    Represents a Key.\n",
    "    \"\"\"\n",
    "    \n",
    "    def __init__(self, name, description):\n",
    "        super().__init__(name, description)\n",
    "    \n",
    "    def use(self):\n",
    "        print(\"...using key...\")"
   ]
  },
  {
   "cell_type": "markdown",
   "id": "6a37d6ba",
   "metadata": {},
   "source": [
    "### Problem 2.2\n",
    "<b>(10 points)</b>  Create two Key objects and two Coin objects. Demonstrate the usage of `Coin.describe()` and `key.use()`."
   ]
  },
  {
   "cell_type": "code",
   "execution_count": 5,
   "id": "ca9aa26e",
   "metadata": {},
   "outputs": [
    {
     "name": "stdout",
     "output_type": "stream",
     "text": [
      "...using key...\n",
      "silver_coin: might be worth a lot (valued at 100)\n"
     ]
    }
   ],
   "source": [
    "# Samples ...\n",
    "master_key = Key(\"master_key\", \"can be used anywhere\")\n",
    "silver_coin = Coin(\"silver_coin\", \"might be worth a lot\", 100)\n",
    "master_key.use()\n",
    "silver_coin.describe()"
   ]
  },
  {
   "cell_type": "markdown",
   "id": "41003598",
   "metadata": {},
   "source": [
    "## Problem 3\n",
    "Here is a class called a <b>Room</b>. Each Room has the following attributes \n",
    "\n",
    "| Attribute | Description|\n",
    "---------|------------\n",
    "| `name` | Room's name|\n",
    "| `description` | A description of the room|\n",
    "| `items` |A set of Items that are in the Room|\n",
    "| `locked` |A  boolean value representing if the Room is locked or not|\n",
    "\n",
    "(assume a locked room means it is locked from all entrances to/from the room for simplicity).\n",
    "\n",
    "A Room has the following methods:\n",
    "\n",
    "| Method | description|\n",
    "---------|------------\n",
    "| `__init__()` | Constructor - Initializes the variables|\n",
    "| `describe()` | Print a description of the room and all the items in it|\n",
    "| `toggle_lock()` | Toggle the `Room.locked` variable using an input Key object.|\n",
    "| `get_item()` |Returns an item if it is present in the room|\n",
    "\n",
    "<b>(30 points) </b>\n",
    "1. Write the `Room.describe()` method. This method will call the `Item.describe()` method for any Item that is present (i.e. all items in. `self.items`) in the room as well as print the `Room.description`.\n",
    "2. Complete the `Room.toggle_lock()` method. This method will do the following: Take an argument as input and check if the input is a Key. If it is, it toggles the value of Room.locked (from True to False or vice versa). If not, return. You can use the `type()` method to check an object's type."
   ]
  },
  {
   "cell_type": "code",
   "execution_count": 6,
   "id": "1bfea411",
   "metadata": {},
   "outputs": [],
   "source": [
    "class Room:\n",
    "    \"\"\" \n",
    "    A Room is has a name and a description and a set of Items.\n",
    "    A room can be locked or unlocked.\n",
    "\n",
    "    A Room has the following variables:\n",
    "        name        - String representing the name of the room.\n",
    "        description - String that gives a brief description of the room\n",
    "        items       - A set of Items in the Room\n",
    "        locked      - Boolean representing if the location is locked or not \n",
    "                      (from all directions).\n",
    "\n",
    "    A Room has the following methods:\n",
    "        describe(self)          - Print description of Room and all Characters \n",
    "                                  and Items\n",
    "        toggle_lock(self, key)  - Toggle the Room.locked value between \n",
    "                                  True/False. Must use a Key.\n",
    "                                            \n",
    "    Example usage:\n",
    "        # Create a room that us locked and has no items in it\n",
    "        room1 = Room(\"room1\", \"First room in the house\", set(), locked=True)\n",
    "        \n",
    "        # Create a room with a key in it that is unlocked \n",
    "        room2 = Room(\"room1\", \"First room in the house\", {key}, locked=False)\n",
    "    \"\"\"\n",
    "\n",
    "    def __init__(\n",
    "        self, \n",
    "        name: str, \n",
    "        description: str, \n",
    "        items: set[Item | None] = set(), \n",
    "        locked: bool = False,\n",
    "    ):\n",
    "        \"\"\"\n",
    "        Initialize Room and its variables\n",
    "        \"\"\"\n",
    "        self.name = name\n",
    "        self.description = description\n",
    "        self.items = items\n",
    "        self.locked = locked\n",
    "\n",
    "    def describe(self):\n",
    "        \"\"\"\n",
    "        Prints self.description and the description of any Items\n",
    "        in self.items (if len(self.items) > 0)\n",
    "        \"\"\"\n",
    "        print(f\"Room `{self.name.title()}`: {self.description}\")\n",
    "        print(f\"{self.name.title()} contains the following items:\")\n",
    "        for item in self.items:\n",
    "            print(\"*\", end = \" \")\n",
    "            item.describe()\n",
    "\n",
    "\n",
    "    def toggle_lock(self, key):\n",
    "        \"\"\"\n",
    "        Toggle the lock using a Key object.\n",
    "        \"\"\"\n",
    "        if not isinstance(key, Key):\n",
    "            return\n",
    "        key.use()\n",
    "        self.locked = not self.locked\n",
    "\n",
    "    def get_item(self, name):\n",
    "        \"\"\"\n",
    "        Return an item that is present at this room\n",
    "        \"\"\"\n",
    "        for item in self.items:\n",
    "            if item.name == name:\n",
    "                self.items.remove(item)\n",
    "                return item\n",
    "        print(\"It doesn't look like\", name, \"is in this room.\")"
   ]
  },
  {
   "cell_type": "markdown",
   "id": "0708a5a8",
   "metadata": {},
   "source": [
    "To test your **Room** class, create a few Items/Keys/Coins and try creating a room and locking/unlocking it:\n",
    "```python\n",
    "# Creating a room object\n",
    "r = Room(\"antichamber\", \"A room before a room\", {master_key, silver_coin}, locked=True)\n",
    "r.describe()\n",
    "print(r.locked)\n",
    "master_key.use(r)\n",
    "print(r.locked)\n",
    "\n",
    "```\n",
    "\n",
    "The output might look something like:\n",
    "\n",
    "<pre>\n",
    "Room name antichamber: A room before a room\n",
    "contains the following items:\n",
    "silver_coin: might be worth a lot\n",
    "master_key: can be used anywhere\n",
    "True\n",
    "False</pre>"
   ]
  },
  {
   "cell_type": "code",
   "execution_count": 7,
   "id": "8c2794a1",
   "metadata": {},
   "outputs": [
    {
     "name": "stdout",
     "output_type": "stream",
     "text": [
      "Room `Antichamber`: A room before a room\n",
      "Antichamber contains the following items:\n",
      "* master_key: can be used anywhere\n",
      "* silver_coin: might be worth a lot (valued at 100)\n",
      "locked = True\n",
      "...using key...\n",
      "locked = False\n"
     ]
    }
   ],
   "source": [
    "# Demonstrate creating a Room and locking/unlocking it\n",
    "r = Room(\n",
    "    \"antichamber\", \n",
    "    \"A room before a room\", \n",
    "    {master_key, silver_coin}, \n",
    "    locked=True\n",
    ")\n",
    "r.describe()\n",
    "print(f\"locked = {r.locked}\")\n",
    "\n",
    "# `Key.use()` does not take a parameter. I may have misunderstood!\n",
    "# master_key.use(r)\n",
    "\n",
    "r.toggle_lock(master_key)\n",
    "print(f\"locked = {r.locked}\")"
   ]
  },
  {
   "cell_type": "markdown",
   "id": "d98fbaca",
   "metadata": {},
   "source": [
    "## Problem 4"
   ]
  },
  {
   "cell_type": "markdown",
   "id": "3d0f9af2",
   "metadata": {},
   "source": [
    "<b>(20 points) </b> In Lab 9, we wrote a Character class. Here is a slightly modified version of this class with `Character.__str__()` replaced with `Character.describe()`.\n"
   ]
  },
  {
   "cell_type": "code",
   "execution_count": 8,
   "id": "2e062ff8",
   "metadata": {},
   "outputs": [],
   "source": [
    "class Character:\n",
    "    \"\"\"\n",
    "    Represents a Character in our game.\n",
    "\n",
    "    A Character has the following variables:\n",
    "\n",
    "        self.name           -   Character's name (a string)\n",
    "        self.description    -   Character's description (a string)\n",
    "        self.message        -   A message the Character has to convey.\n",
    "\n",
    "    A Character is able to\n",
    "\n",
    "        talk(self)      -   Returns a string either self.message or self.other_message at random.\n",
    "        describe(self)  -   Prints self.name and self.description\n",
    "    \"\"\"\n",
    "\n",
    "    def __init__(self, name: str, description: str, message: str):\n",
    "        \"\"\" \n",
    "        Initialize a Character with a name, description, and message\n",
    "        \"\"\"\n",
    "        self.name = name\n",
    "        self.description = description\n",
    "        self.message = message\n",
    "\n",
    "    def talk(self):\n",
    "        \"\"\"\n",
    "        Returns a message\n",
    "        \"\"\"\n",
    "        return self.message\n",
    "\n",
    "    def describe(self):\n",
    "        \"\"\"\n",
    "        Prints a description of the Character\n",
    "        \"\"\"\n",
    "        print(\"{}:\\n\\t {}\".format(self.name, self.description))"
   ]
  },
  {
   "cell_type": "markdown",
   "id": "3c8a21da",
   "metadata": {},
   "source": [
    "Let's extend this generic **Character** class to create a main character called a Hero. A Hero Character is a specific version of a Character with the following additional instance variables:\n",
    "\n",
    "* location - This will be a Room that represents the Hero's current location.\n",
    "* backpack - This will be a set of Items that the Hero is carrying.\n",
    "\n",
    "<b> Add the following to the Hero class:</b>\n",
    "\n",
    "First, complete the Hero class definition by writing the constructor `__init__()` method. This constructor can first call the parent's constructor to initialize the Character's name, description, and message. Then, it will initialize the location and backpack.\n",
    "\n",
    "Then, complete the `pick_up()` method. This method does the following:\n",
    "1. Take as input a string representing an Item's name (for example, if `book` is an Item, the input can be `book.name`).\n",
    "2. Use `get_item()` method of the Hero's location to check if that item exists at that location.\n",
    "3. If it does, add the item to `self.backpack`."
   ]
  },
  {
   "cell_type": "code",
   "execution_count": 9,
   "id": "cb37be86",
   "metadata": {},
   "outputs": [],
   "source": [
    "class Hero(Character):\n",
    "    \"\"\" \n",
    "    Represents a Hero. A Hero is a specific Character.\n",
    "    In addition to having a name, description, messages like all Characters,\n",
    "    the Hero has a location, and a set of items called the backpack.\n",
    "\n",
    "    A Hero has the additional variables:\n",
    "        location    -   Current Room the Hero is in.\n",
    "        backpack    -   Set of Items the Hero is holding\n",
    "\n",
    "    The Hero is able to:\n",
    "        pick_up(self, name)  -   Pick up an Item if it is in self.location.items\n",
    "    \"\"\"\n",
    "\n",
    "    def __init__(\n",
    "            self, \n",
    "            name: str, \n",
    "            description: str, \n",
    "            message: str, \n",
    "            location: Room, \n",
    "            backpack: set[Item] = set(),\n",
    "        ):\n",
    "        \"\"\"\n",
    "        Initialize the Hero\n",
    "        \"\"\"\n",
    "        super().__init__(name, description, message)\n",
    "        self.location = location\n",
    "        self.backpack = backpack\n",
    "\n",
    "    def pick_up(self, name: str):\n",
    "        \"\"\"\n",
    "        Take an item only if the item is in the current location\n",
    "        \"\"\"\n",
    "        # TODO your code here\n",
    "        # check if item is in self.location using self.location.get_item()\n",
    "        item = self.location.get_item(name)\n",
    "        if item is not None:\n",
    "            self.backpack.add(item)\n",
    "        \n",
    "    def describe(self):\n",
    "        \"\"\"\n",
    "        Prints out information on our hero\n",
    "        \"\"\"\n",
    "        print(\"{}:\\t{}\".format(self.name, self.description))\n",
    "        print(\"Location: {}\".format(self.location.name))\n",
    "        if len(self.backpack) > 0:\n",
    "            print(\"\\t Items in backpack:\")\n",
    "            for item in self.backpack:\n",
    "                print(\"\\t\", item.name, \":\\t\", item.description)\n",
    "        else:\n",
    "            print(\"\\tBackpack is empty.\")"
   ]
  },
  {
   "cell_type": "markdown",
   "id": "f1ba9b58",
   "metadata": {},
   "source": [
    "Test your Hero class below (an example is provided)"
   ]
  },
  {
   "cell_type": "markdown",
   "id": "0f291e88",
   "metadata": {},
   "source": [
    "```python\n",
    "# Create a room with some items \n",
    "book = Item(\"book\", \"This item is a book.\")\n",
    "yellow_pencil = Item(\"yellow_pencil\", \"This item is a pencil.\")\n",
    "staircase = Room(\"staircase\", \"just a random staircase\", {yellow_pencil, book} )\n",
    "\n",
    "# Create a Hero and print description\n",
    "alice = Hero(\"Alice\", \"Game hero\", \"Hello world\", staircase)\n",
    "alice.describe()\n",
    "\n",
    "# Ask Alice to pick up the book and print description again\n",
    "alice.pick_up(book.name)\n",
    "alice.describe()\n",
    "```\n",
    "\n",
    "\n",
    "Output might look something like this:\n",
    "\n",
    "<i>[alice.describe() before picking up the book]</i>\n",
    "<pre>\n",
    "Alice:\tGame hero\n",
    "Location: staircase\n",
    "\n",
    "\tBackpack is empty.\n",
    "</pre>\n",
    "<i>[alice.describe() after picking up the book]</i>\n",
    "<pre>\n",
    "Alice:\tGame hero\n",
    "Location: staircase\n",
    "\n",
    "\t Items in backpack:\n",
    "\t book :\t This item is a book.\n",
    "</pre>\n"
   ]
  },
  {
   "cell_type": "code",
   "execution_count": 10,
   "id": "437c210a",
   "metadata": {},
   "outputs": [
    {
     "name": "stdout",
     "output_type": "stream",
     "text": [
      "Before picking up the book...\n",
      "~~~~~~~~~~~~~~~~~~~~~~~~~~~~~\n",
      "Room `Staircase`: just a random staircase\n",
      "Staircase contains the following items:\n",
      "* yellow_pencil: This item is a pencil.\n",
      "* book: This item is a book.\n",
      "\n",
      "Alice:\tGame hero\n",
      "Location: staircase\n",
      "\tBackpack is empty.\n",
      "\n",
      "After picking up the book...\n",
      "~~~~~~~~~~~~~~~~~~~~~~~~~~~~\n",
      "Room `Staircase`: just a random staircase\n",
      "Staircase contains the following items:\n",
      "* yellow_pencil: This item is a pencil.\n",
      "\n",
      "Alice:\tGame hero\n",
      "Location: staircase\n",
      "\t Items in backpack:\n",
      "\t book :\t This item is a book.\n"
     ]
    }
   ],
   "source": [
    "# Create a room with some items \n",
    "book = Item(\"book\", \"This item is a book.\")\n",
    "yellow_pencil = Item(\"yellow_pencil\", \"This item is a pencil.\")\n",
    "staircase = Room(\"staircase\", \"just a random staircase\", {yellow_pencil, book} )\n",
    "\n",
    "# Create a Hero and print description\n",
    "alice = Hero(\"Alice\", \"Game hero\", \"Hello world\", staircase)\n",
    "print(\"Before picking up the book...\")\n",
    "print(\"~~~~~~~~~~~~~~~~~~~~~~~~~~~~~\")\n",
    "staircase.describe()\n",
    "print()\n",
    "alice.describe()\n",
    "print()\n",
    "\n",
    "# Ask Alice to pick up the book and print description again\n",
    "print(\"After picking up the book...\")\n",
    "print(\"~~~~~~~~~~~~~~~~~~~~~~~~~~~~\")\n",
    "alice.pick_up(book.name)\n",
    "staircase.describe()\n",
    "print()\n",
    "alice.describe()"
   ]
  }
 ],
 "metadata": {
  "kernelspec": {
   "display_name": "scc-engr-7",
   "language": "python",
   "name": "python3"
  },
  "language_info": {
   "codemirror_mode": {
    "name": "ipython",
    "version": 3
   },
   "file_extension": ".py",
   "mimetype": "text/x-python",
   "name": "python",
   "nbconvert_exporter": "python",
   "pygments_lexer": "ipython3",
   "version": "3.11.6"
  }
 },
 "nbformat": 4,
 "nbformat_minor": 5
}
