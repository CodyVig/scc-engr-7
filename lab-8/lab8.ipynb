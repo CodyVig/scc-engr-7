{
 "cells": [
  {
   "cell_type": "markdown",
   "id": "66f09ed2",
   "metadata": {},
   "source": [
    "# Lab 8"
   ]
  },
  {
   "cell_type": "markdown",
   "id": "8d0b977a",
   "metadata": {},
   "source": [
    "# Problem 1"
   ]
  },
  {
   "cell_type": "markdown",
   "id": "4b5e20ce",
   "metadata": {},
   "source": [
    "<b>(15 points) </b> Following the merge sort algorithm, show all the steps for sorting the following unordered list of integers:\n",
    "    \n",
    "5, 8, 6, 9, 0, 2, 5, 7\n",
    "\n",
    "Here is merge_sort from lecture for reference\n",
    "\n",
    "```python\n",
    "def merge_sort(lst):\n",
    "    \"\"\" Use the Merge sort algorithm to sort a list\"\"\"\n",
    "    \n",
    "    n = len(lst)\n",
    "\n",
    "    if n < 2:\n",
    "        return lst\n",
    "    \n",
    "    # Sort left and right\n",
    "    left_lst = merge_sort(lst[:n//2])\n",
    "    right_lst = merge_sort(lst[n//2:])\n",
    "    \n",
    "    # Merge the two\n",
    "    merged = []\n",
    "    \n",
    "    ii = 0\n",
    "    jj = 0\n",
    "    while ii < len(left_lst) and jj < len(right_lst):\n",
    "        if left_lst[ii] < right_lst[jj]:\n",
    "            merged.append(left_lst[ii])\n",
    "            ii = ii + 1\n",
    "        else:\n",
    "            merged.append(right_lst[jj])\n",
    "            jj = jj + 1\n",
    "    \n",
    "    while ii < len(left_lst):\n",
    "        merged.append(left_lst[ii])\n",
    "        ii = ii + 1\n",
    "        \n",
    "    while jj < len(right_lst):\n",
    "        merged.append(right_lst[jj])\n",
    "        jj = jj + 1\n",
    "    \n",
    "    return merged\n",
    "```"
   ]
  },
  {
   "cell_type": "code",
   "execution_count": null,
   "id": "37c268e5",
   "metadata": {},
   "outputs": [],
   "source": []
  },
  {
   "cell_type": "markdown",
   "id": "98184465",
   "metadata": {},
   "source": [
    "# Problem 2"
   ]
  },
  {
   "cell_type": "markdown",
   "id": "3702856c",
   "metadata": {},
   "source": [
    "<b>(15 points) </b> \n",
    "Here is binary search from lecture:\n",
    "    \n",
    "```python\n",
    "def binary_search(L, elem):\n",
    "\"\"\"Uses the binary search algorithm to search for elem in L\n",
    "Assumes L is sorted. \"\"\"\n",
    "\n",
    "# Base case\n",
    "n = len(L)\n",
    "if n == 1:\n",
    "    return L[0] == elem\n",
    "\n",
    "# Get the middle position in the list\n",
    "m = n // 2\n",
    "\n",
    "if L[m] == elem:\n",
    "    return True\n",
    "elif L[m] > elem:\n",
    "    return binary_search(L[0:m], elem)\n",
    "else:\n",
    "    return binary_search(L[m:], elem)\n",
    "```"
   ]
  },
  {
   "cell_type": "markdown",
   "id": "0a4a58a6",
   "metadata": {},
   "source": [
    "List all recursive calls to `binary_search` when the input list is L = [23 43 51 56 63 66 74 80 95 101] and elem = 92.\n",
    "\n",
    "Repeat for elem = 43."
   ]
  },
  {
   "cell_type": "code",
   "execution_count": null,
   "id": "e0ef82b6",
   "metadata": {},
   "outputs": [],
   "source": []
  },
  {
   "cell_type": "markdown",
   "id": "3d3b08e6",
   "metadata": {},
   "source": [
    "# Problem 3"
   ]
  },
  {
   "cell_type": "markdown",
   "id": "aaf320c2",
   "metadata": {},
   "source": [
    "<b>(30 points) </b> Use the merge sort algorithm to write a function that will sort a list to tuples of integers. The sorting order should be determined by the sum of the integers in the tuple. For example, (5, 2) should precede (1, 8) and follow (1, 2, 3).\n",
    "\n",
    "An example:\n",
    "```python\n",
    "lst = [(1,3,2), (4, 3, 10), (-5, 2, 1), (0, 0,0)]\n",
    "merge_sort_tuples(lst)\n",
    "```\n",
    "[(-5, 2, 1), (0, 0, 0), (1, 3, 2), (4, 3, 10)]"
   ]
  },
  {
   "cell_type": "code",
   "execution_count": null,
   "id": "056510d7",
   "metadata": {},
   "outputs": [],
   "source": [
    "def merge_sort_tuples(lst):\n",
    "    \"\"\" Use the Merge sort algorithm to sort a list of tuples\"\"\"\n",
    "    \n",
    "    ## TODO Your code here"
   ]
  },
  {
   "cell_type": "markdown",
   "id": "1f0bc12a",
   "metadata": {},
   "source": [
    "# Problem 4"
   ]
  },
  {
   "cell_type": "markdown",
   "id": "6ede29e8",
   "metadata": {},
   "source": [
    "<b>(20 points) </b>\n",
    "Using similar logic as binary search, we can write another searching method called <b>`ternary_search()`</b>:\n",
    "\n",
    "Searching a list `L` for an element `elem`:\n",
    "\n",
    "* Assume `L` is sorted.\n",
    "* Split the list into thirds (first segment of the list, middle segment, last segment).\n",
    "    * Call the splitting indices `m1` and `m2`. \n",
    "* Check if the `L[m2]` is `elem`.\n",
    "* Check if `L[m1]` is `elem`. \n",
    "* Based on the values of `L[m1]` and `L[m2]`, we will only have to search in one of the three segments of L.\n",
    "    * if `L[m2] < elem`, search the last segment using a recursive call to ternary_search.\n",
    "    * if  `L[m1] < elem < L[m2]`, search the middle segment using a recursive call to ternary_search.\n",
    "    * if  `L[m1] > elem ]`, search the first segment using a recursive call to ternary_search.\n",
    "\n",
    "\n",
    "If L = [5, 8, 11, 14, 17, 20, 23, 54], as an example, the split points are `m1 = 2` and `m2 = 5`. \n",
    "\n",
    "The first segment is [5, 8, 11]. \n",
    "The second segment is [14, 17, 20].\n",
    "The last segment is [20, 23, 54].\n",
    "\n",
    "Complete the `ternary_search()` function below using recursion. "
   ]
  },
  {
   "cell_type": "code",
   "execution_count": null,
   "id": "e8e1d831",
   "metadata": {},
   "outputs": [],
   "source": [
    "def ternary_search(L, elem):\n",
    "    \"\"\" Return True or False if elem is in L using ternary search.\n",
    "        Assumes L is sorted. \"\"\"\n",
    "    \n",
    "    # Length of the list\n",
    "    n = len(L)\n",
    "    \n",
    "    # base cases (if the list is only 1 or 2 elements long)\n",
    "    if n == 1:\n",
    "        return L[0] == elem\n",
    "    if n == 2:\n",
    "        # TODO add your code here\n",
    "\n",
    "    # Get the two split locations (splitting list into thirds)\n",
    "    m1 = n // 3\n",
    "    m2 = 2 * n // 3     \n",
    "\n",
    "    if L[m1] == elem:\n",
    "        return True\n",
    "    \n",
    "    elif L[m2] == elem:\n",
    "        return True\n",
    "    \n",
    "    # TODO add your code here\n",
    "    \n",
    "    return False"
   ]
  },
  {
   "cell_type": "markdown",
   "id": "ed164526",
   "metadata": {},
   "source": [
    "Turns out, this is still an $O(logn)$ algorithm."
   ]
  },
  {
   "cell_type": "markdown",
   "id": "211657aa",
   "metadata": {},
   "source": [
    "# Problem 5"
   ]
  },
  {
   "cell_type": "markdown",
   "id": "dd06be45",
   "metadata": {},
   "source": [
    "<b>(20 points) </b> Here is recursive Fibonacci function from Lecture 6:\n",
    "\n",
    "```python\n",
    "def fib(n):\n",
    "    \"\"\" Returns the nth Fibonacci number\"\"\"\n",
    "    if n == 0:\n",
    "        return 0\n",
    "    if n == 1:\n",
    "        return 1\n",
    "    else:\n",
    "        return fib(n - 1) + fib(n - 2)\n",
    "```\n",
    "\n",
    "This recursive function is unfortunately $O(2^n)$ (it's very very slow). Even finding the 50th Fibonacci number takes far too long.\n",
    "\n",
    "A better way of finding the Nth Fibonacci number, $F_N$, is to keep track of only the previous two Fibonacci numbers $F_{n-1}$ and $F_{n - 2}$ starting with $F_0$ and $F_1$. Repeat until $F_N$ is found.\n",
    "\n",
    "In words:\n",
    "* Start with $F_{i - 2} = 0$ and  $F_{i - 1} = 1$\n",
    "* Calculate $F_{i} = F_{i - 1} + F_{i - 2}$\n",
    "* Increment $i$\n",
    "    * Update $F_{i - 2}$ and  $F_{i - 1}$\n",
    "* Repeat until i = n\n",
    "\n",
    "This could be implemented using a `while` loop. Complete the function below to calculate $F_n$ and also return the number of times the while loop is run using the `ctr` variable."
   ]
  },
  {
   "cell_type": "code",
   "execution_count": null,
   "id": "3839e1f8",
   "metadata": {},
   "outputs": [],
   "source": [
    "def fib(n):\n",
    "    \"\"\" Calculate the nth Fibonacci number\"\"\"\n",
    "    f_i_minus_2 = 0\n",
    "    f_i_minus_1 = 1\n",
    "    \n",
    "    # ctr will count the number of times the while loop is executed\n",
    "    ctr = 0\n",
    "    i = 2\n",
    "    f_i = f_i_minus_2 + f_i_minus_1\n",
    "    while (i <= n):\n",
    "        # TODO Add your code here \n",
    "        ctr = ctr + 1\n",
    "\n",
    "    return f_i, ctr"
   ]
  },
  {
   "cell_type": "markdown",
   "id": "19958690",
   "metadata": {},
   "source": [
    "Below, use matplotlib to create a plot of the `ctr` value versus `n`."
   ]
  },
  {
   "cell_type": "code",
   "execution_count": null,
   "id": "b883fea0",
   "metadata": {},
   "outputs": [],
   "source": [
    "import numpy as np\n",
    "import matplotlib.pyplot as plt\n",
    "\n",
    "n_arr = np.linspace(1, 100, 100)\n",
    "ctr_arr = np.zeros(np.shape(n_arr))\n",
    "\n",
    "for idx, n in enumerate(n_arr):\n",
    "    fibn, ctr = fib(n)\n",
    "    ctr_arr[idx] = ctr\n",
    "\n",
    "# TODO Add your code to plot n_arr vs ctr_arr here"
   ]
  },
  {
   "cell_type": "markdown",
   "id": "8b757e83",
   "metadata": {},
   "source": [
    "What does `ctr` represent?  Based on the plot, what is the time complexity of the new `fib()` function?"
   ]
  },
  {
   "cell_type": "code",
   "execution_count": null,
   "id": "83dd5256",
   "metadata": {},
   "outputs": [],
   "source": []
  }
 ],
 "metadata": {
  "kernelspec": {
   "display_name": "py10",
   "language": "python",
   "name": "py10"
  },
  "language_info": {
   "codemirror_mode": {
    "name": "ipython",
    "version": 3
   },
   "file_extension": ".py",
   "mimetype": "text/x-python",
   "name": "python",
   "nbconvert_exporter": "python",
   "pygments_lexer": "ipython3",
   "version": "3.10.11"
  }
 },
 "nbformat": 4,
 "nbformat_minor": 5
}
