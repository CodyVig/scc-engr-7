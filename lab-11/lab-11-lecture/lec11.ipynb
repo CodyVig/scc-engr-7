{
 "cells": [
  {
   "cell_type": "markdown",
   "id": "1bbe91b9",
   "metadata": {},
   "source": [
    "# Lecture 11: Inheritance part 2\n",
    "\n",
    "## Reading\n",
    "*  Composing Programs: Section 2.5.5-2.5.8\n",
    "    * https://www.composingprograms.com/pages/25-object-oriented-programming.html \n",
    "* Chapter 10 of Guttag\n",
    "* Chapter 30 of Lutz"
   ]
  },
  {
   "cell_type": "markdown",
   "id": "472ef5c5",
   "metadata": {},
   "source": [
    "# Object-oriented programming\n",
    "* In OOP, all the data for a program is grouped into various different objects.\n",
    "* The objects have an interface that defines how they interact with one another.\n",
    "* The interactions and operations are performed mostly by objects via methods that may or may not affect an object (or another object's) state (i.e. its data).\n",
    "* Classes can be implemented and tested independently.\n",
    "* The concept of <b> inheritance</b> allows a subclass to redefine or extend it's superclass' behavior.\n",
    "    * Again, this helps with code reduction and complexity. \n"
   ]
  },
  {
   "cell_type": "markdown",
   "id": "f62c8be4",
   "metadata": {},
   "source": [
    "## Case study\n",
    "Let's convert Lab 4 - The 21 Card Game into an object-oriented program.\n",
    "\n",
    "First, think of what kind of objects we need\n",
    "\n",
    "- Card\n",
    "    * Previously, we defined cards as a tuple (a built in type) with a value and a suit \n",
    "    ```python\n",
    "\n",
    "    vals = ['2', '3', '4', '5', '6', '7', '8', '9', '10', 'jack', 'queen', 'king', 'ace']\n",
    "    suits = ['spades', 'clubs', 'hearts', 'diamonds']\n",
    "    ```\n",
    "- A card deck\n",
    "    * Just a collection of cards. Previously we represented this as a set\n",
    "    ```python\n",
    "    deck = set([(v, s) for v in vals for s in suits])\n",
    "    ```\n",
    "    \n",
    "- A player\n",
    "    * Player's hold cards\n",
    "    * Player might also be a dealer\n",
    "        - A more specific version of a player\n",
    "\n",
    "We will use `random` to shuffle the Cards so import random"
   ]
  },
  {
   "cell_type": "code",
   "execution_count": 1,
   "id": "d796905a",
   "metadata": {},
   "outputs": [],
   "source": [
    "import random"
   ]
  },
  {
   "cell_type": "markdown",
   "id": "e04f7347",
   "metadata": {},
   "source": [
    "## Card class\n",
    "\n",
    "| Attribute| Class or Instance|Description|\n",
    "--------------|-------|---------------\n",
    "| `SUITS `| <b> Class  </b> | Set of all card suits.|\n",
    "| `VALS `| <b> Class  </b> | Set of all card values.|\n",
    "| `suit `| <b> Instance  </b>|  Card object's suit.|\n",
    "| `val `| <b> Instance  </b> | Card object's value.|\n",
    "\n",
    "\n",
    "| Method| \tDescription|\n",
    "--------------|----------------------\n",
    "| `__init__() `| \tConstructor|\n",
    "|`__str__()`|\tReturns a string representation of the Card.|"
   ]
  },
  {
   "cell_type": "code",
   "execution_count": 2,
   "id": "0ca53f8a",
   "metadata": {},
   "outputs": [],
   "source": [
    "class Card:\n",
    "    '''Represents a card object'''\n",
    "    \n",
    "    SUITS = {'spades', 'clubs', 'hearts', 'diamonds'}\n",
    "    VALS = {'2', '3', '4', '5', '6', '7', '8', '9', \n",
    "            '10', 'queen', 'king', 'jack', 'ace'}\n",
    "    \n",
    "    def __init__(self, val, suit):\n",
    "        '''Creates a card with the given suit and value.'''\n",
    "        self.suit = suit\n",
    "        self.val = str(val)\n",
    "        \n",
    "    def __str__(self):\n",
    "        '''Returns the string representation of a card. '''\n",
    "        return self.val + ' of ' + self.suit"
   ]
  },
  {
   "cell_type": "code",
   "execution_count": 5,
   "id": "e8c0fd25",
   "metadata": {},
   "outputs": [
    {
     "name": "stdout",
     "output_type": "stream",
     "text": [
      "4 of clubs\n",
      "clubs\n",
      "4\n"
     ]
    }
   ],
   "source": [
    "c = Card(4, 'clubs')\n",
    "print(c)\n",
    "print(c.suit)\n",
    "print(c.val)"
   ]
  },
  {
   "cell_type": "markdown",
   "id": "2745afae",
   "metadata": {},
   "source": [
    "## Deck class\n",
    "\n",
    "| Attribute| Class or Instance|Description|\n",
    "--------------|-------|---------------\n",
    "| `hand `| <b> Instance  </b> |List of cards in the deck.|\n",
    "\n",
    "\n",
    "| Method| \tDescription.|\n",
    "--------------|----------------------\n",
    "| `__init__()` | \tConstructor.|\n",
    "| `__len__()`| Returns the number of cards currently in the deck. Called with len(d)| \n",
    "| `shuffle()`| Shuffles the cards in the deck.| \n",
    "|`deal()` | If the deck is not empty, removes and returns the topmost card. Otherwise, returns None . |\n",
    "|`__str__()`|\tReturns a string representation of the deck (all the cards in it). Called with str(d).|"
   ]
  },
  {
   "cell_type": "code",
   "execution_count": 6,
   "id": "e8573f3e",
   "metadata": {},
   "outputs": [],
   "source": [
    "\n",
    "class Deck:\n",
    "    '''A deck containing 52 cards.'''\n",
    "    \n",
    "    def __init__(self):\n",
    "        '''Creates a full deck of cards.'''\n",
    "        self.hand = []\n",
    "    \n",
    "        for suit in Card.SUITS:\n",
    "            for val in Card.VALS:\n",
    "                c = Card(val, suit) \n",
    "                self.hand.append(c)\n",
    "            \n",
    "    def shuffle(self):\n",
    "        '''Shuffles the cards.'''\n",
    "        random.shuffle(self.hand)\n",
    "       \n",
    "    def deal(self):\n",
    "        '''Removes and returns the top n cards  \n",
    "         or None if the deck is empty.'''\n",
    "        \n",
    "        if len(self.hand) > 0:\n",
    "            self.shuffle()\n",
    "            return self.hand.pop(0)\n",
    "        \n",
    "    def __len__(self):\n",
    "        '''Returns the number of cards left in the deck.'''\n",
    "        return len(self.hand)\n",
    "    \n",
    "    def __str__(self):\n",
    "        '''Returns the string representation of a deck.'''\n",
    "        result = ''\n",
    "        for card in self.hand: \n",
    "            result = result + str(card) + '\\n' \n",
    "        return result"
   ]
  },
  {
   "cell_type": "code",
   "execution_count": 10,
   "id": "38887114",
   "metadata": {},
   "outputs": [],
   "source": [
    "deck =  Deck()"
   ]
  },
  {
   "cell_type": "code",
   "execution_count": 12,
   "id": "6805ca6e",
   "metadata": {},
   "outputs": [
    {
     "name": "stdout",
     "output_type": "stream",
     "text": [
      "52\n"
     ]
    }
   ],
   "source": [
    "print(len(deck))"
   ]
  },
  {
   "cell_type": "markdown",
   "id": "3c12164a",
   "metadata": {},
   "source": [
    "## Player Class\n",
    "\n",
    "| Attribute| Class or Instance|Description|\n",
    "--------------|-------|---------------\n",
    "| `hand `| <b> Instance  </b> |List of cards in the player's hand.|\n",
    "| `score `| <b> Instance  </b> |Best score of player's hand.|\n",
    "\n",
    "\n",
    "| Method| \tDescription.|\n",
    "--------------|----------------------\n",
    "| `__init__()` | \tConstructor. Initializes hand and calculates best score of the hand.|\n",
    "|`__str__()`|\tReturns a string representation of the player|\n",
    "| `draw_card()`| Takes a Deck object as input and draws a random card using `Deck.deal()`| \n",
    "| `calc_score()`| Calculates the best score of `self.hand.`| \n"
   ]
  },
  {
   "cell_type": "code",
   "execution_count": 13,
   "id": "4541e65e",
   "metadata": {},
   "outputs": [],
   "source": [
    "class Player: \n",
    "    ''''This class represents a player in a game of 21.'''\n",
    "    \n",
    "    def __init__(self, hand=None):\n",
    "        self.hand = hand\n",
    "        self.calc_score()\n",
    "\n",
    "    def __str__(self): \n",
    "        '''Returns string rep of hand and points.'''\n",
    "        rtn = '\\tCards: '\n",
    "        rtn += ', '.join(map (str, self.hand)) \n",
    "        rtn += '\\n\\tBest score: ' + str(self.score)\n",
    "        return rtn\n",
    "\n",
    "    def draw_card(self, deck):\n",
    "        '''Draw a card from the deck'''\n",
    "        self.hand.append(deck.deal())\n",
    "        self.calc_score()\n",
    "\n",
    "    def calc_score(self): \n",
    "        '''Returns the best score given the cards in the Player's hand. '''\n",
    "\n",
    "        # This function is almost identical to self.score() in Lab 4\n",
    "        score_without_aces = 0\n",
    "        number_of_aces = 0\n",
    "\n",
    "        # iterate through each card in the set\n",
    "        for card in self.hand:\n",
    "            v = card.val\n",
    "            s = card.suit\n",
    "\n",
    "            # check if its an ace\n",
    "            if v == 'ace':\n",
    "                number_of_aces = number_of_aces + 1\n",
    "            else:\n",
    "                # if not, get its value\n",
    "                if v in {'king', 'queen', 'jack'}:\n",
    "                    score_without_aces = score_without_aces + 10\n",
    "                else:\n",
    "                    score_without_aces = score_without_aces + int(v)   \n",
    "\n",
    "        # now deal with the aces (if any) and find the best score\n",
    "        if number_of_aces == 0:\n",
    "            self.score = score_without_aces\n",
    "\n",
    "        # 1 ace, either add 10 or 1\n",
    "        elif number_of_aces == 1:\n",
    "            if score_without_aces + 10 <= 21:\n",
    "                self.score = score_without_aces + 10\n",
    "            else:\n",
    "                self.score = score_without_aces + 1\n",
    "\n",
    "        # 2 aces, we either add 20, 11, or 2\n",
    "        elif number_of_aces == 2:\n",
    "            if score_without_aces + 20 <= 21:\n",
    "                self.score = score_without_aces + 20\n",
    "            elif  score_without_aces + 11 <= 21:\n",
    "                self.score = score_without_aces + 11\n",
    "            else:\n",
    "                self.score = score_without_aces + 2\n",
    "\n",
    "        # 3 aces, either add 21, 12, or 3\n",
    "        elif number_of_aces == 3: \n",
    "            if score_without_aces + 21 <= 21:\n",
    "                self.score = score_without_aces + 21\n",
    "            elif  score_without_aces + 12 <= 21:\n",
    "                self.score = score_without_aces + 12\n",
    "            else:\n",
    "                self.score = score_without_aces + 3\n",
    "\n",
    "        # 4 aces we can only have 13 or 4\n",
    "        else: \n",
    "            if score_without_aces + 13 <= 21:\n",
    "                self.score = score_without_aces + 10 + 3\n",
    "            else:\n",
    "                self.score = score_without_aces + 4\n"
   ]
  },
  {
   "cell_type": "code",
   "execution_count": 15,
   "id": "ab1f7eb0",
   "metadata": {},
   "outputs": [
    {
     "name": "stdout",
     "output_type": "stream",
     "text": [
      "\tCards: \n",
      "\tBest score: 0\n"
     ]
    }
   ],
   "source": [
    "customer = Player([])\n",
    "print(customer)"
   ]
  },
  {
   "cell_type": "code",
   "execution_count": null,
   "id": "7d1d829b",
   "metadata": {},
   "outputs": [],
   "source": [
    "print(len(deck))"
   ]
  },
  {
   "cell_type": "code",
   "execution_count": null,
   "id": "45b69f73",
   "metadata": {},
   "outputs": [],
   "source": [
    "customer.draw_card(deck)"
   ]
  },
  {
   "cell_type": "code",
   "execution_count": null,
   "id": "f1bb21c4",
   "metadata": {},
   "outputs": [],
   "source": [
    "print(len(deck))"
   ]
  },
  {
   "cell_type": "code",
   "execution_count": 19,
   "id": "01e80520",
   "metadata": {},
   "outputs": [
    {
     "name": "stdout",
     "output_type": "stream",
     "text": [
      "\tCards: 10 of spades\n",
      "\tBest score: 10\n"
     ]
    }
   ],
   "source": [
    "print(customer)"
   ]
  },
  {
   "cell_type": "code",
   "execution_count": 21,
   "id": "be932c83",
   "metadata": {},
   "outputs": [
    {
     "name": "stdout",
     "output_type": "stream",
     "text": [
      "\tCards: 10 of spades, 10 of hearts, 2 of spades, jack of diamonds, ace of spades\n",
      "\tBest score: 33\n"
     ]
    }
   ],
   "source": [
    "customer.draw_card(deck)\n",
    "customer.draw_card(deck)\n",
    "print(customer)"
   ]
  },
  {
   "cell_type": "code",
   "execution_count": 22,
   "id": "61aca2e8",
   "metadata": {},
   "outputs": [
    {
     "name": "stdout",
     "output_type": "stream",
     "text": [
      "47\n"
     ]
    }
   ],
   "source": [
    "print(len(deck))"
   ]
  },
  {
   "cell_type": "markdown",
   "id": "fdbfde15",
   "metadata": {},
   "source": [
    "## Dealer\n",
    "A dealer is a more specific player. The Dealer has two main differences between a general Player:\n",
    "    \n",
    "* The dealer has a visible card -- this is an additional instance variable.\n",
    "    * Because the dealer has to have a visible card, we initialize the Dealer with at least one card drawn.\n",
    "* The dealer uses a `stop_at_seventeen` strategy -- this will be incorporated in the Dealer's `draw_card()` method -- instead of drawing a card like all other Players, the Dealer will make sure to stop when their score is 17. So, we will re-define `draw_card()`.\n",
    "    \n",
    "\n",
    "| Attribute| Class or Instance|Description|\n",
    "--------------|-------|---------------\n",
    "| `visible_card `| <b> Instance  </b> |A Card object that remains visible to the other Players|\n",
    "\n",
    "\n",
    "| Method| \tDescription.|\n",
    "--------------|----------------------\n",
    "| `__init__()` | \tConstructor. Includes the initialization of `self.visible_card`.|\n",
    "|`__str__()`|\tReturns a string representation of the Dealer.|\n",
    "| `draw_card()`| Takes a Deck object as input and draws a random card using `Deck.deal()`| \n"
   ]
  },
  {
   "cell_type": "code",
   "execution_count": 23,
   "id": "7a287899",
   "metadata": {},
   "outputs": [],
   "source": [
    "class Dealer(Player):\n",
    "    \"\"\"Represents a Dealer in a game of 21. An extension of a Player\"\"\"\n",
    "    \n",
    "    def __init__(self, hand):\n",
    "        \"\"\"Initiates a Dealer object. \"\"\"\n",
    "        Player.__init__(self, hand)\n",
    "        self.visible_card = self.hand[0]\n",
    "        \n",
    "    def __str__(self):\n",
    "        \"\"\"Returns string representation of Dealer (only the visible card)\"\"\"\n",
    "\n",
    "        return \"Visible card: \" + str(self.visible_card)\n",
    "    \n",
    "    def draw_card(self, deck):\n",
    "        \"\"\" Draw a card from a deck only if self.score < 17\"\"\"\n",
    "        if self.score < 17:\n",
    "            c = deck.deal()\n",
    "            self.hand.append(c)"
   ]
  },
  {
   "cell_type": "code",
   "execution_count": 24,
   "id": "e5d68efa",
   "metadata": {},
   "outputs": [],
   "source": [
    "dealer = Dealer([deck.deal()])"
   ]
  },
  {
   "cell_type": "code",
   "execution_count": 25,
   "id": "1367a24a",
   "metadata": {},
   "outputs": [
    {
     "name": "stdout",
     "output_type": "stream",
     "text": [
      "Visible card: queen of diamonds\n"
     ]
    }
   ],
   "source": [
    "print(dealer)"
   ]
  },
  {
   "cell_type": "code",
   "execution_count": 26,
   "id": "c437b3b6",
   "metadata": {},
   "outputs": [
    {
     "name": "stdout",
     "output_type": "stream",
     "text": [
      "46\n"
     ]
    }
   ],
   "source": [
    "print(len(deck))"
   ]
  },
  {
   "cell_type": "markdown",
   "id": "c2ea832e",
   "metadata": {},
   "source": [
    "## The actual Game\n",
    "To play the actual game, create all the objects we need, and ask the objects to perform their actions.\n",
    "\n",
    "Objects needed:\n",
    "* A deck of cards\n",
    "* A dealer\n",
    "* A player\n",
    "\n",
    "### Game class\n",
    "\n",
    "| Attribute| Class or Instance|Description|\n",
    "--------------|-------|---------------\n",
    "| `deck `| <b> Instance  </b> |The deck of cards (Deck object)|\n",
    "| `dealer `| <b> Instance  </b> |Dealer object|\n",
    "| `customer `| <b> Instance  </b> |Player object -- the customer|\n",
    "\n",
    "\n",
    "| Method| \tDescription.|\n",
    "--------------|----------------------\n",
    "| `__init__()` | \tConstructor. Create the Deck. Create the Dealer. Create the Player. |\n",
    "| `play()`| Play the game. | \n"
   ]
  },
  {
   "cell_type": "code",
   "execution_count": 28,
   "id": "6a2762d0",
   "metadata": {},
   "outputs": [],
   "source": [
    "class TwentyOne:\n",
    "    ''' A game of twenty one.\n",
    "    Consists of a Deck, a Player and a Dealer.\n",
    "    '''\n",
    "    def __init__(self):\n",
    "        '''Initialize the game.\n",
    "        Create the Deck, create the dealer, create the customer\n",
    "        Both the dealer and customer start off with two cards\n",
    "        '''\n",
    "        self.deck = Deck()\n",
    "        self.deck.shuffle()\n",
    "\n",
    "        self.dealer =  Dealer([self.deck.deal(), self.deck.deal()])\n",
    "        self.customer = Player([self.deck.deal(), self.deck.deal()])\n",
    "    \n",
    "    def play(self):\n",
    "        '''Play the game'''\n",
    "        \n",
    "        print(\"Customer:\\n\", self.customer)\n",
    "        print(\"Dealer: \\n\", self.dealer) \n",
    "        \n",
    "        # Ask customer to draw cards until they decide to stop\n",
    "        while True: \n",
    "            user_input = input(\"Do you want to draw a card? [y/n]:\") \n",
    "            if user_input in (\"Y\", \"y\"):\n",
    "                self.customer.draw_card(self.deck) \n",
    "                 # Dealer may or may not pick a card\n",
    "                self.dealer.draw_card(self.deck)\n",
    "                print(\"Customer:\\n\", self.customer) \n",
    "                print(\"Dealer:\\n\", self.dealer) \n",
    "            else:\n",
    "                break\n",
    "            \n",
    "            if self.customer.score >= 21:\n",
    "                break\n",
    "        \n",
    "        # Last chance for dealer to draw a card\n",
    "        self.dealer.draw_card(self.deck)   \n",
    "        \n",
    "        print(\"\\n\\n~~~~~~GAME OVER~~~~~~\\n\")\n",
    "        print(\"Customer:\\n\", self.customer) \n",
    "        print(\"Dealer:\\n\", self.dealer)  \n",
    "        # After card drawing is over, check who won\n",
    "        if self.customer.score > 21: \n",
    "            print(\"Dealer won, you lost :(\")\n",
    "        elif self.dealer.score > 21:\n",
    "            print(\"Dealer lost -- you win!\")\n",
    "        elif self.customer.score > self.dealer.score:\n",
    "            print(\"You win!\")\n",
    "        else:\n",
    "            print(\"Tie\")"
   ]
  },
  {
   "cell_type": "code",
   "execution_count": 29,
   "id": "decfdb89",
   "metadata": {},
   "outputs": [],
   "source": [
    "p = TwentyOne()"
   ]
  },
  {
   "cell_type": "code",
   "execution_count": 30,
   "id": "61743553",
   "metadata": {},
   "outputs": [
    {
     "name": "stdout",
     "output_type": "stream",
     "text": [
      "Customer:\n",
      " \tCards: 3 of clubs, 2 of diamonds\n",
      "\tBest score: 5\n",
      "Dealer: \n",
      " Visible card: 5 of spades\n",
      "Do you want to draw a card? [y/n]:y\n",
      "Customer:\n",
      " \tCards: 3 of clubs, 2 of diamonds, queen of spades\n",
      "\tBest score: 15\n",
      "Dealer:\n",
      " Visible card: 5 of spades\n",
      "Do you want to draw a card? [y/n]:y\n",
      "Customer:\n",
      " \tCards: 3 of clubs, 2 of diamonds, queen of spades, jack of diamonds\n",
      "\tBest score: 25\n",
      "Dealer:\n",
      " Visible card: 5 of spades\n",
      "\n",
      "\n",
      "~~~~~~GAME OVER~~~~~~\n",
      "\n",
      "Customer:\n",
      " \tCards: 3 of clubs, 2 of diamonds, queen of spades, jack of diamonds\n",
      "\tBest score: 25\n",
      "Dealer:\n",
      " Visible card: 5 of spades\n",
      "Dealer won, you lost :(\n"
     ]
    }
   ],
   "source": [
    "p.play()"
   ]
  },
  {
   "cell_type": "markdown",
   "id": "a6bf015d",
   "metadata": {},
   "source": [
    "# Putting it all together "
   ]
  },
  {
   "cell_type": "code",
   "execution_count": 31,
   "id": "06308cfc",
   "metadata": {},
   "outputs": [
    {
     "name": "stdout",
     "output_type": "stream",
     "text": [
      "Customer:\n",
      " \tCards: 7 of spades, queen of hearts\n",
      "\tBest score: 17\n",
      "Dealer: \n",
      " \tCards: 6 of hearts, jack of spades\n",
      "\tBest score: 16\n",
      "\tVisible card: 6 of hearts\n",
      "Do you want to draw a card? [y/n]:n\n",
      "\n",
      "\n",
      "~~~~~~GAME OVER~~~~~~\n",
      "\n",
      "Customer:\n",
      " \tCards: 7 of spades, queen of hearts\n",
      "\tBest score: 17\n",
      "Dealer:\n",
      " \tCards: 6 of hearts, jack of spades, king of clubs\n",
      "\tBest score: 16\n",
      "\tVisible card: 6 of hearts\n",
      "You win!\n"
     ]
    }
   ],
   "source": [
    "%run twenty_one.py"
   ]
  },
  {
   "cell_type": "markdown",
   "id": "8f9c56eb",
   "metadata": {},
   "source": [
    "## Recap"
   ]
  },
  {
   "cell_type": "markdown",
   "id": "2fd8f131",
   "metadata": {},
   "source": [
    "Let's summarize a few things about the different classes here:\n",
    "1. The <b>Deck</b> class has <b>Card</b> objects (<b>has a</b> relationship)\n",
    "2. The <b>Player</b> class also has <b>Card</b> objects (<b>has a</b> relationship)\n",
    "3. The <b>Dealer</b> class is a specific type of a <b>Player</b> (<b>is a</b> relationship)\n",
    "4. The <b>TwentyOne</b> class has a <b>Deck</b>, <b>Player</b>, and <b>Dealer</b> (all are examples of <b>has a</b> relationships).\n",
    "\n",
    "\n",
    "## Functional vs OOP approach \n",
    "So now we have written two different programs that play the same card game. One of them was written with a functional approach (Lab 4), and the other one (in this lecture) was written with an object-oriented approach. \n",
    "\n",
    "Here are some of the pros of the object-oriented approach\n",
    "\n",
    "* Objects have real-life analogies -- this might help with the code's logic and readability. \n",
    "* Different classes can be designed separately and tested.\n",
    "    * For example, we first designed the <b>Card</b> class and ensured it worked as we expected. Then, we designed the <b>Deck</b>  class, and made sure it worked as expected. Then, we started designing the <b>Player</b>  and so on.\n",
    "* The objects classes that we've designed can be used in other programs\n",
    "    * The <b>Deck</b>  class, for example, might be useful in creating a different card game. We've already implemented a way to shuffle a deck and deal cards from a deck. If another programmer needs to use a deck in a different program, they don't have to worry about all the details of a deck. All they need is information on the methods of the <b>Deck</b>  class (how to call the constructor, how to call the `shuffle()` method, etc).\n",
    "* If we want to add more complexity (a few examples: a <b>Player</b> who is a novice, a <b>Player</b>  who has a specific strategy, a trick Deck), we can create more extensions of the classes that are already created.\n",
    "\n",
    "This style of writing programs can be a bit strange at first. \n",
    "\n",
    "Thinking of a program as a series of functions may be more natural. We're used to thinking of functions as something that performs a procedure or performs a calculation. \n",
    "\n",
    "On the other hand, in OOP, there is a bit more design involved with thinking of what types of objects our program might need, what a class represents, what information it holds, and what procedures (i.e. methods) that object can perform. Then an added layer of complexity  -- thinking of how these objects can interact. As one example, the <b>Player</b> objects can take a <b>Deck</b> object and draw a card from it (see `Player.draw_card()` takes an argument that is a <b>Deck</b> object. The <b>Deck</b>  deals a card (`Deck.deal()` and the Player adds it to `self.hand`.)"
   ]
  },
  {
   "cell_type": "code",
   "execution_count": null,
   "id": "7c25f856",
   "metadata": {},
   "outputs": [],
   "source": []
  }
 ],
 "metadata": {
  "kernelspec": {
   "display_name": "py10",
   "language": "python",
   "name": "py10"
  },
  "language_info": {
   "codemirror_mode": {
    "name": "ipython",
    "version": 3
   },
   "file_extension": ".py",
   "mimetype": "text/x-python",
   "name": "python",
   "nbconvert_exporter": "python",
   "pygments_lexer": "ipython3",
   "version": "3.10.11"
  }
 },
 "nbformat": 4,
 "nbformat_minor": 5
}
