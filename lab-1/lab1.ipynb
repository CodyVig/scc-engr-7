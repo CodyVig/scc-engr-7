{
 "cells": [
  {
   "cell_type": "markdown",
   "id": "a9dcb990",
   "metadata": {},
   "source": [
    "# Lab 1"
   ]
  },
  {
   "cell_type": "markdown",
   "id": "c79f3f68",
   "metadata": {},
   "source": [
    "## Problem 1\n",
    "Practice writing an algebrain expression that evaluates to the number 2000."
   ]
  },
  {
   "cell_type": "code",
   "execution_count": 10,
   "id": "a23e469c",
   "metadata": {},
   "outputs": [
    {
     "name": "stdout",
     "output_type": "stream",
     "text": [
      "2000\n"
     ]
    }
   ],
   "source": [
    "# fill in your code for the above problem here\n",
    "print(\n",
    "    (1 + 1)**6 // 4 * (10**2 + 5**2)\n",
    ")"
   ]
  },
  {
   "cell_type": "markdown",
   "id": "beb96de7",
   "metadata": {},
   "source": [
    "## Problem 2"
   ]
  },
  {
   "cell_type": "markdown",
   "id": "867eb4b7",
   "metadata": {},
   "source": [
    "<ol>\n",
    "    <li> Read in two strings from the user using the <b>input()</b> function. Save them into variables str1 and str2.</li>\n",
    "    <li>Create a boolean variable <b>are_inputs_equal</b> and assign it to be the result of if str1 and str2 are equal.</li>\n",
    "    <li>Print both inputs the user entered to the screen using a <b>print() statement</b>.</li>\n",
    "    <li>Print out <b>are_inputs_equal</b> to the screen using a <b>print()</b> statement.</li>\n",
    "</ol>"
   ]
  },
  {
   "cell_type": "code",
   "execution_count": 1,
   "id": "17505147",
   "metadata": {},
   "outputs": [
    {
     "name": "stdout",
     "output_type": "stream",
     "text": [
      "str1='1'\n",
      "str2='2'\n",
      "False\n"
     ]
    }
   ],
   "source": [
    "# fill in your code for the above problem here\n",
    "str1: str = input(\"Type a string: \")\n",
    "str2: str = input(\"Type another string: \")\n",
    "\n",
    "are_inputs_equal: bool = str1 == str2\n",
    "\n",
    "print(f\"{str1=}\")\n",
    "print(f\"{str2=}\")\n",
    "\n",
    "print(f\"{are_inputs_equal=}\")"
   ]
  },
  {
   "cell_type": "markdown",
   "id": "ddf848e6",
   "metadata": {},
   "source": [
    "## Problem 3\n",
    "Repeat Problem 2 to read in two ints from the user. Remember that `input()` will return a `str` so convert to an `int` using the `int()` function. Then print out the result of whether the two ints are equaion are not"
   ]
  },
  {
   "cell_type": "code",
   "execution_count": 7,
   "id": "139d6760",
   "metadata": {},
   "outputs": [
    {
     "name": "stdout",
     "output_type": "stream",
     "text": [
      "False\n"
     ]
    }
   ],
   "source": [
    "# fill in your code for the above problem here\n",
    "int1: int = int(input(\"Type an integer: \"))\n",
    "int2: int = int(input(\"Type another integer: \"))\n",
    "\n",
    "are_inputs_equal: bool = int1 == int2\n",
    "\n",
    "print(are_inputs_equal)"
   ]
  },
  {
   "cell_type": "markdown",
   "id": "d93ac7ff",
   "metadata": {},
   "source": [
    "## Problem 4"
   ]
  },
  {
   "cell_type": "markdown",
   "id": "abb01f1e",
   "metadata": {},
   "source": [
    "<ol>\n",
    "    <li> Download the Python script greet_user.py. </li>\n",
    "    <li> Run the script through Jupyter in the cell below using %run </li>\n",
    "</ol>\n",
    "\n",
    "<pre>\n",
    "%run greet_user.py\n",
    "</pre>"
   ]
  },
  {
   "cell_type": "code",
   "execution_count": 8,
   "id": "0e879a6f",
   "metadata": {},
   "outputs": [
    {
     "name": "stdout",
     "output_type": "stream",
     "text": [
      "Hello, Cody!\n"
     ]
    }
   ],
   "source": [
    "%run greet_user.py"
   ]
  },
  {
   "cell_type": "markdown",
   "id": "6f3e2e22",
   "metadata": {},
   "source": [
    "## Problem 5"
   ]
  },
  {
   "cell_type": "markdown",
   "id": "e0ede3bd",
   "metadata": {},
   "source": [
    "Convert your answer to Problem 3 to a .py script called lab1_problem5.py. Run the script below using %run lab1_problem5.py"
   ]
  },
  {
   "cell_type": "code",
   "execution_count": 9,
   "id": "da9c7ca4",
   "metadata": {},
   "outputs": [
    {
     "name": "stdout",
     "output_type": "stream",
     "text": [
      "True\n"
     ]
    }
   ],
   "source": [
    "%run lab1_problem5.py"
   ]
  }
 ],
 "metadata": {
  "kernelspec": {
   "display_name": "Python 3",
   "language": "python",
   "name": "python3"
  },
  "language_info": {
   "codemirror_mode": {
    "name": "ipython",
    "version": 3
   },
   "file_extension": ".py",
   "mimetype": "text/x-python",
   "name": "python",
   "nbconvert_exporter": "python",
   "pygments_lexer": "ipython3",
   "version": "3.11.4"
  }
 },
 "nbformat": 4,
 "nbformat_minor": 5
}
