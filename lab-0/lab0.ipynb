{
 "cells": [
  {
   "cell_type": "markdown",
   "id": "468d8b2a",
   "metadata": {},
   "source": [
    "# Lab 0\n",
    "\n",
    "The purpose of this lab is to make sure you have installed Python and Jupyter and are able to get a notebook up and running.\n",
    "\n",
    "Please begin by reading the Unit 0: Introduction to Python module pages:\n",
    "* Installing Python and Jupyter\n",
    "* Introduction to Python\n",
    "* Writing and Running Python Code\n",
    "\n",
    "If you run into any trouble installing Python please reach out to me as soon as possible. "
   ]
  },
  {
   "cell_type": "markdown",
   "id": "834f39b1",
   "metadata": {},
   "source": [
    "## Problem 1"
   ]
  },
  {
   "cell_type": "markdown",
   "id": "352f1101",
   "metadata": {},
   "source": [
    "Save the following into a file called hello_world.py:\n",
    "\n",
    "<pre>\n",
    "\n",
    "''' Hello World\n",
    "# Prints out \"hello world\"\n",
    "'''\n",
    "\n",
    "# This statement will print out \"hello world!\"\n",
    "print(\"hello world!\")\n",
    "</pre>\n",
    "\n",
    "<b> Make sure that none of the lines start with any spaces or indentations .</b>"
   ]
  },
  {
   "cell_type": "markdown",
   "id": "1907fbb2",
   "metadata": {},
   "source": [
    "Practice opening the help for the Jupyter `%run` command by running the below cell"
   ]
  },
  {
   "cell_type": "code",
   "execution_count": 2,
   "id": "239b4c0a",
   "metadata": {},
   "outputs": [
    {
     "name": "stdout",
     "output_type": "stream",
     "text": [
      "\u001b[0;31mDocstring:\u001b[0m\n",
      "Run the named file inside IPython as a program.\n",
      "\n",
      "Usage::\n",
      "\n",
      "  %run [-n -i -e -G]\n",
      "       [( -t [-N<N>] | -d [-b<N>] | -p [profile options] )]\n",
      "       ( -m mod | filename ) [args]\n",
      "\n",
      "The filename argument should be either a pure Python script (with\n",
      "extension ``.py``), or a file with custom IPython syntax (such as\n",
      "magics). If the latter, the file can be either a script with ``.ipy``\n",
      "extension, or a Jupyter notebook with ``.ipynb`` extension. When running\n",
      "a Jupyter notebook, the output from print statements and other\n",
      "displayed objects will appear in the terminal (even matplotlib figures\n",
      "will open, if a terminal-compliant backend is being used). Note that,\n",
      "at the system command line, the ``jupyter run`` command offers similar\n",
      "functionality for executing notebooks (albeit currently with some\n",
      "differences in supported options).\n",
      "\n",
      "Parameters after the filename are passed as command-line arguments to\n",
      "the program (put in sys.argv). Then, control returns to IPython's\n",
      "prompt.\n",
      "\n",
      "This is similar to running at a system prompt ``python file args``,\n",
      "but with the advantage of giving you IPython's tracebacks, and of\n",
      "loading all variables into your interactive namespace for further use\n",
      "(unless -p is used, see below).\n",
      "\n",
      "The file is executed in a namespace initially consisting only of\n",
      "``__name__=='__main__'`` and sys.argv constructed as indicated. It thus\n",
      "sees its environment as if it were being run as a stand-alone program\n",
      "(except for sharing global objects such as previously imported\n",
      "modules). But after execution, the IPython interactive namespace gets\n",
      "updated with all variables defined in the program (except for __name__\n",
      "and sys.argv). This allows for very convenient loading of code for\n",
      "interactive work, while giving each program a 'clean sheet' to run in.\n",
      "\n",
      "Arguments are expanded using shell-like glob match.  Patterns\n",
      "'*', '?', '[seq]' and '[!seq]' can be used.  Additionally,\n",
      "tilde '~' will be expanded into user's home directory.  Unlike\n",
      "real shells, quotation does not suppress expansions.  Use\n",
      "*two* back slashes (e.g. ``\\\\*``) to suppress expansions.\n",
      "To completely disable these expansions, you can use -G flag.\n",
      "\n",
      "On Windows systems, the use of single quotes `'` when specifying\n",
      "a file is not supported. Use double quotes `\"`.\n",
      "\n",
      "Options:\n",
      "\n",
      "-n\n",
      "  __name__ is NOT set to '__main__', but to the running file's name\n",
      "  without extension (as python does under import).  This allows running\n",
      "  scripts and reloading the definitions in them without calling code\n",
      "  protected by an ``if __name__ == \"__main__\"`` clause.\n",
      "\n",
      "-i\n",
      "  run the file in IPython's namespace instead of an empty one. This\n",
      "  is useful if you are experimenting with code written in a text editor\n",
      "  which depends on variables defined interactively.\n",
      "\n",
      "-e\n",
      "  ignore sys.exit() calls or SystemExit exceptions in the script\n",
      "  being run.  This is particularly useful if IPython is being used to\n",
      "  run unittests, which always exit with a sys.exit() call.  In such\n",
      "  cases you are interested in the output of the test results, not in\n",
      "  seeing a traceback of the unittest module.\n",
      "\n",
      "-t\n",
      "  print timing information at the end of the run.  IPython will give\n",
      "  you an estimated CPU time consumption for your script, which under\n",
      "  Unix uses the resource module to avoid the wraparound problems of\n",
      "  time.clock().  Under Unix, an estimate of time spent on system tasks\n",
      "  is also given (for Windows platforms this is reported as 0.0).\n",
      "\n",
      "If -t is given, an additional ``-N<N>`` option can be given, where <N>\n",
      "must be an integer indicating how many times you want the script to\n",
      "run.  The final timing report will include total and per run results.\n",
      "\n",
      "For example (testing the script uniq_stable.py)::\n",
      "\n",
      "    In [1]: run -t uniq_stable\n",
      "\n",
      "    IPython CPU timings (estimated):\n",
      "      User  :    0.19597 s.\n",
      "      System:        0.0 s.\n",
      "\n",
      "    In [2]: run -t -N5 uniq_stable\n",
      "\n",
      "    IPython CPU timings (estimated):\n",
      "    Total runs performed: 5\n",
      "      Times :      Total       Per run\n",
      "      User  :   0.910862 s,  0.1821724 s.\n",
      "      System:        0.0 s,        0.0 s.\n",
      "\n",
      "-d\n",
      "  run your program under the control of pdb, the Python debugger.\n",
      "  This allows you to execute your program step by step, watch variables,\n",
      "  etc.  Internally, what IPython does is similar to calling::\n",
      "\n",
      "      pdb.run('execfile(\"YOURFILENAME\")')\n",
      "\n",
      "  with a breakpoint set on line 1 of your file.  You can change the line\n",
      "  number for this automatic breakpoint to be <N> by using the -bN option\n",
      "  (where N must be an integer). For example::\n",
      "\n",
      "      %run -d -b40 myscript\n",
      "\n",
      "  will set the first breakpoint at line 40 in myscript.py.  Note that\n",
      "  the first breakpoint must be set on a line which actually does\n",
      "  something (not a comment or docstring) for it to stop execution.\n",
      "\n",
      "  Or you can specify a breakpoint in a different file::\n",
      "\n",
      "      %run -d -b myotherfile.py:20 myscript\n",
      "\n",
      "  When the pdb debugger starts, you will see a (Pdb) prompt.  You must\n",
      "  first enter 'c' (without quotes) to start execution up to the first\n",
      "  breakpoint.\n",
      "\n",
      "  Entering 'help' gives information about the use of the debugger.  You\n",
      "  can easily see pdb's full documentation with \"import pdb;pdb.help()\"\n",
      "  at a prompt.\n",
      "\n",
      "-p\n",
      "  run program under the control of the Python profiler module (which\n",
      "  prints a detailed report of execution times, function calls, etc).\n",
      "\n",
      "  You can pass other options after -p which affect the behavior of the\n",
      "  profiler itself. See the docs for %prun for details.\n",
      "\n",
      "  In this mode, the program's variables do NOT propagate back to the\n",
      "  IPython interactive namespace (because they remain in the namespace\n",
      "  where the profiler executes them).\n",
      "\n",
      "  Internally this triggers a call to %prun, see its documentation for\n",
      "  details on the options available specifically for profiling.\n",
      "\n",
      "There is one special usage for which the text above doesn't apply:\n",
      "if the filename ends with .ipy[nb], the file is run as ipython script,\n",
      "just as if the commands were written on IPython prompt.\n",
      "\n",
      "-m\n",
      "  specify module name to load instead of script path. Similar to\n",
      "  the -m option for the python interpreter. Use this option last if you\n",
      "  want to combine with other %run options. Unlike the python interpreter\n",
      "  only source modules are allowed no .pyc or .pyo files.\n",
      "  For example::\n",
      "\n",
      "      %run -m example\n",
      "\n",
      "  will run the example module.\n",
      "\n",
      "-G\n",
      "  disable shell-like glob expansion of arguments.\n",
      "\u001b[0;31mFile:\u001b[0m      ~/.local/lib/python3.11/site-packages/IPython/core/magics/execution.py"
     ]
    }
   ],
   "source": [
    "run?"
   ]
  },
  {
   "cell_type": "markdown",
   "id": "a20fa318",
   "metadata": {},
   "source": [
    "* now, practice running the hello_world.py script:"
   ]
  },
  {
   "cell_type": "code",
   "execution_count": 4,
   "id": "71b3925f",
   "metadata": {},
   "outputs": [
    {
     "name": "stdout",
     "output_type": "stream",
     "text": [
      "hello world!\n"
     ]
    }
   ],
   "source": [
    "%run hello_world.py"
   ]
  },
  {
   "cell_type": "markdown",
   "id": "1779cfe7",
   "metadata": {},
   "source": [
    "We can use `!` in Jupyter to run through the command line. Any Linux shell command can be used after `!` and rather than the Python shell interpreting the command, the operating system will.\n",
    "\n",
    "We can thus run hello_world.py through the system python shell (rather than the Jupyter Ipython shell we are currently in):"
   ]
  },
  {
   "cell_type": "code",
   "execution_count": 9,
   "id": "466b0b3d",
   "metadata": {},
   "outputs": [
    {
     "name": "stdout",
     "output_type": "stream",
     "text": [
      "hello world!\r\n"
     ]
    }
   ],
   "source": [
    "!python hello_world.py"
   ]
  },
  {
   "cell_type": "markdown",
   "id": "2b7601cb",
   "metadata": {},
   "source": [
    "## Problem 2"
   ]
  },
  {
   "cell_type": "markdown",
   "id": "827dff23",
   "metadata": {},
   "source": [
    "Using <b>Python comments</b> in the below cell, answer the following \n",
    "1. Explain briefly what a Python shell.\n",
    "2. Explain briefly what a Python script is."
   ]
  },
  {
   "cell_type": "code",
   "execution_count": 4,
   "id": "8a5567a6",
   "metadata": {},
   "outputs": [],
   "source": [
    "# your answer to problem 2 here \n",
    "\n",
    "# 1. A Python shell is an interpreter in which you can type and subsequently run Python \n",
    "# commands.\n",
    "\n",
    "# 2. A Python script is a file that contains one or more Python commands to be performed \n",
    "# sequentially. This script can then be fed into a Python shell to run the code contained \n",
    "# within it."
   ]
  },
  {
   "cell_type": "markdown",
   "id": "db48950e",
   "metadata": {},
   "source": [
    "## Problem 3"
   ]
  },
  {
   "cell_type": "markdown",
   "id": "86e237ef",
   "metadata": {},
   "source": [
    "Using a <b>markdown</b> cell below, answer the following\n",
    "<ol>\n",
    "    <li> What is your major and what are your career / educational goals?</li>\n",
    "    <li> What programming experience do you have?</li>\n",
    "    <li> What are you hoping to learn in this course?</li>\n",
    "    <li> Is there anything you'd like to confidentially share?</li>\n",
    "</ol>"
   ]
  },
  {
   "cell_type": "markdown",
   "id": "88d7ae88",
   "metadata": {},
   "source": [
    "1. I have a BA in Mathematics from UC Berkeley with a minor in physics. I used to be a student at Solano College and have returned to enroll in the new data science program. My goal is to get the AA in data science before enrolling in a Statistics Masters program at UC Davis with concentration in data science.\n",
    "\n",
    "2. My technical background in programming includes CIS 22 (which was taught in C++) at Solano, a computational physics class at Berkeley (taught in Python), and an assembly class at DVC (taught using MASM). I have since taught myself Python through coding an API wrapper with a friend from Berkeley, and I have taught myself basic scripting in C# through making a game in the Unity engine. \n",
    "\n",
    "3. I don't expect to learn too many new concepts in this class, but I am happy to finally have a more robust classroom introduction to Python beyond being asked to write very basic functional programs. My real interest lies in taking the courses for which this is a prerequisite: machine learning, deep learning, and data analysis in Python.\n",
    "\n",
    "4. Dr. Lutz has been a mentor to me for many years, and she spoke very highly of you. My hope is to someday teach these courses at Solano if the program sees success and there is a demand for another instructor. I am very much looking forward to taking these classes with you."
   ]
  }
 ],
 "metadata": {
  "kernelspec": {
   "display_name": "Python 3",
   "language": "python",
   "name": "python3"
  },
  "language_info": {
   "codemirror_mode": {
    "name": "ipython",
    "version": 3
   },
   "file_extension": ".py",
   "mimetype": "text/x-python",
   "name": "python",
   "nbconvert_exporter": "python",
   "pygments_lexer": "ipython3",
   "version": "3.11.4"
  }
 },
 "nbformat": 4,
 "nbformat_minor": 5
}
