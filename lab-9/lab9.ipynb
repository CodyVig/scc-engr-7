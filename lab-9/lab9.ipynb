{
 "cells": [
  {
   "cell_type": "markdown",
   "id": "1cbcbe50",
   "metadata": {},
   "source": [
    "# Lab 9 - Writting and Using Classes"
   ]
  },
  {
   "cell_type": "markdown",
   "id": "298378ed",
   "metadata": {},
   "source": [
    "## Problem 1\n",
    "For this problem, download the `Classes.py` file which includes the Student and Course class definitions from lecture.\n",
    "We can import this file and then begin creating Student and Course objects."
   ]
  },
  {
   "cell_type": "code",
   "execution_count": 2,
   "id": "f63b1fae",
   "metadata": {},
   "outputs": [
    {
     "name": "stdout",
     "output_type": "stream",
     "text": [
      "The autoreload extension is already loaded. To reload it, use:\n",
      "  %reload_ext autoreload\n"
     ]
    }
   ],
   "source": [
    "# Make sure autoreload is loaded so changes to Classes.py are reloaded\n",
    "%reload_ext autoreload\n",
    "%autoreload 2 \n",
    "\n",
    "# To import the Class definitions in classes.py\n",
    "from Classes import *"
   ]
  },
  {
   "cell_type": "markdown",
   "id": "f82de4cb",
   "metadata": {},
   "source": [
    "### Problem 1.1"
   ]
  },
  {
   "cell_type": "markdown",
   "id": "66594480",
   "metadata": {},
   "source": [
    "<b>(20 points)</b> Make the following changes to the Course and Student classes.\n",
    "\n",
    "* Add a class variable to the Course class called `_students_enrolled`. When a Course object is initialized (i.e. in the `__init__()` method), `self._students_enrolled` should be set to 0. This variable will represent the number of students who have taken this class.\n",
    "\n",
    "* Add a method in Course called `increment_enrollment()` which will increase the `self._students_enrolled` by 1. \n",
    "* Add a method in Course called `student_enrollment()` which will return the `self._student_enrollment` class variable.\n",
    "* In the Student class, add a line to the `add_course()` method that will call `course.increment_enrollment()` for the Course object. \n",
    "\n",
    "\n",
    "Make your changes in the `Classes.py` file."
   ]
  },
  {
   "cell_type": "markdown",
   "id": "28c66af6",
   "metadata": {},
   "source": [
    "### Problem 1.2"
   ]
  },
  {
   "cell_type": "markdown",
   "id": "70158d3a",
   "metadata": {},
   "source": [
    "<b>(10 points)</b>  With the above changes made, create two Student objects and a Course object. Add the same Course to both of the Student objects (using `add_course()`) and demonstrate that the Course's `_student_enrollment()` is properly incremented.\n",
    "\n",
    "The following snippet, for example, \n",
    "\n",
    "```python\n",
    "jane = Student(\"Doe\", \"Jane\", 12345, \"Engineering\")\n",
    "john = Student(\"Doe\", \"John\", 543243241, \"Biology\")\n",
    "bio1 = Course(\"Biology 101\", \"Spring\", 2023)\n",
    "jane.add_course(bio1, \"A\")\n",
    "john.add_course(bio1, \"A\")\n",
    "print(bio1)\n",
    "print(bio1.enrollment_count())\n",
    "```\n",
    "should print out \"2\". "
   ]
  },
  {
   "cell_type": "code",
   "execution_count": null,
   "id": "bcb50bab",
   "metadata": {},
   "outputs": [],
   "source": []
  },
  {
   "cell_type": "markdown",
   "id": "53a1cc45",
   "metadata": {},
   "source": [
    "## Problem 2"
   ]
  },
  {
   "cell_type": "markdown",
   "id": "682aecce",
   "metadata": {},
   "source": [
    "### Problem 2.1"
   ]
  },
  {
   "cell_type": "markdown",
   "id": "fba578cc",
   "metadata": {},
   "source": [
    "<b>(20 points)</b> Add the following three methods to the Student class that compares a Student object to another:\n",
    "\n",
    "* `__eq__(self, other)` that will return the result of testing for equality of self.sid and other.sid.\n",
    "* `__lt__(self, other)` that will return the result of self.sid < other.sid.\n",
    "* `__gt__(self, other)` that will return the result of self.sid > other.sid.\n",
    "\n",
    "\n",
    "Make your changes in the `Classes.py` file."
   ]
  },
  {
   "cell_type": "markdown",
   "id": "f4efbc57",
   "metadata": {},
   "source": [
    "### Problem 2.2"
   ]
  },
  {
   "cell_type": "markdown",
   "id": "63cda684",
   "metadata": {},
   "source": [
    "<b>(20 points)</b>\n",
    "With the above 3 methods of Problem 1.2 defined, the list of Student objects should be sorted based on the `sid` class variable. To test this, do the following:\n",
    "\n",
    "* Create 5 Student objects and at least 5 different objects. \n",
    "* Add at least 2 courses to each of the Students' course_work dictionaries. \n",
    "* Create a list of the 5 Student objects called `student_list`.\n",
    "* Use a loop to print each of the Student objects.\n",
    "* Call the `list.sort()` method using `student_list.sort()`.\n",
    "* Re-print each of the Student objects.\n",
    "\n",
    "\n"
   ]
  },
  {
   "cell_type": "code",
   "execution_count": null,
   "id": "e0d32433",
   "metadata": {},
   "outputs": [],
   "source": []
  },
  {
   "cell_type": "markdown",
   "id": "315fd892",
   "metadata": {},
   "source": [
    "## Problem 3"
   ]
  },
  {
   "cell_type": "markdown",
   "id": "94197e6c",
   "metadata": {},
   "source": [
    "<b>(20 points) </b>Suppose we are designing a program to play a game with various characters and locations. A Character object will represent each character in the game. A class called Location can represent the Character's location. A class called Items can represent various items in the game. We will visit this again in a later lab. \n",
    "\n",
    "For now, complete the definition of a simple Character class below. "
   ]
  },
  {
   "cell_type": "code",
   "execution_count": null,
   "id": "7d942881",
   "metadata": {},
   "outputs": [],
   "source": [
    "class Character:\n",
    "    \"\"\" Represents a Character.\n",
    "    Each Character has a name, description, and a message.\n",
    "\n",
    "    self.name         -    Character's name (a string)\n",
    "    self.description  -    Character's description (a string)\n",
    "    self.message      -    A message the Character has to convey.\n",
    "\n",
    "    A Character is able to\n",
    "\n",
    "    talk(self)        -    Prints out self.message.\n",
    "    __str__(self)     -    Returns a string with self.name and self.description.\n",
    "\n",
    "    \"\"\"\n",
    "    def __init__(self, name, description, message):\n",
    "        \"\"\" Initialize a Character with a name, descirption, and \"\"\"\n",
    "       # Your code here\n",
    "\n",
    "    ## Your code for talk() and __str__() definitions here"
   ]
  },
  {
   "cell_type": "code",
   "execution_count": null,
   "id": "412eea71",
   "metadata": {},
   "outputs": [],
   "source": [
    "# Create a Character object test the __str__ method by using print()"
   ]
  },
  {
   "cell_type": "markdown",
   "id": "6c743461",
   "metadata": {},
   "source": [
    "## Problem 4"
   ]
  },
  {
   "cell_type": "markdown",
   "id": "70fab400",
   "metadata": {},
   "source": [
    "<b>(10 points) </b> Suppose you are tasked with creating a database to represent clinical charts at a doctor's office. You will take an object-oriented approach to building this database. Think of 2 different classes you might create to help organize your code. What would these classes represent and what kind of data might they hold?\n",
    "\n",
    "Here is an example answer:\n",
    "\n",
    "> I would create a class called Visit representing a particular patient's visit to the doctor's office. This class can hold information such as:\n",
    ">  * The visit date - a string\n",
    "> * A list of medication the patient is taking - a list\n",
    "> * Any notes from the doctor - notes\n",
    "> * Follow-up appointment required - a boolean"
   ]
  },
  {
   "cell_type": "code",
   "execution_count": null,
   "id": "44b7248e",
   "metadata": {},
   "outputs": [],
   "source": []
  }
 ],
 "metadata": {
  "kernelspec": {
   "display_name": "scc-engr-7",
   "language": "python",
   "name": "python3"
  },
  "language_info": {
   "codemirror_mode": {
    "name": "ipython",
    "version": 3
   },
   "file_extension": ".py",
   "mimetype": "text/x-python",
   "name": "python",
   "nbconvert_exporter": "python",
   "pygments_lexer": "ipython3",
   "version": "3.11.6"
  }
 },
 "nbformat": 4,
 "nbformat_minor": 5
}
