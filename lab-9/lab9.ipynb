{
 "cells": [
  {
   "cell_type": "markdown",
   "id": "1cbcbe50",
   "metadata": {},
   "source": [
    "# Lab 9 - Writting and Using Classes"
   ]
  },
  {
   "cell_type": "markdown",
   "id": "298378ed",
   "metadata": {},
   "source": [
    "## Problem 1\n",
    "For this problem, download the `Classes.py` file which includes the Student and Course class definitions from lecture.\n",
    "We can import this file and then begin creating Student and Course objects."
   ]
  },
  {
   "cell_type": "code",
   "execution_count": 3,
   "id": "f63b1fae",
   "metadata": {},
   "outputs": [],
   "source": [
    "# Make sure autoreload is loaded so changes to Classes.py are reloaded\n",
    "%reload_ext autoreload\n",
    "%autoreload 2 \n",
    "\n",
    "# To import the Class definitions in classes.py\n",
    "from Classes import *"
   ]
  },
  {
   "cell_type": "markdown",
   "id": "f82de4cb",
   "metadata": {},
   "source": [
    "### Problem 1.1"
   ]
  },
  {
   "cell_type": "markdown",
   "id": "66594480",
   "metadata": {},
   "source": [
    "<b>(20 points)</b> Make the following changes to the Course and Student classes.\n",
    "\n",
    "* Add a class variable to the Course class called `_students_enrolled`. When a Course object is initialized (i.e. in the `__init__()` method), `self._students_enrolled` should be set to 0. This variable will represent the number of students who have taken this class.\n",
    "\n",
    "* Add a method in Course called `increment_enrollment()` which will increase the `self._students_enrolled` by 1. \n",
    "* Add a method in Course called `student_enrollment()` which will return the `self._student_enrollment` class variable.\n",
    "* In the Student class, add a line to the `add_course()` method that will call `course.increment_enrollment()` for the Course object. \n",
    "\n",
    "\n",
    "Make your changes in the `Classes.py` file."
   ]
  },
  {
   "cell_type": "markdown",
   "id": "28c66af6",
   "metadata": {},
   "source": [
    "### Problem 1.2"
   ]
  },
  {
   "cell_type": "markdown",
   "id": "70158d3a",
   "metadata": {},
   "source": [
    "<b>(10 points)</b>  With the above changes made, create two Student objects and a Course object. Add the same Course to both of the Student objects (using `add_course()`) and demonstrate that the Course's `_student_enrollment()` is properly incremented.\n",
    "\n",
    "The following snippet, for example, \n",
    "\n",
    "```python\n",
    "jane = Student(\"Doe\", \"Jane\", 12345, \"Engineering\")\n",
    "john = Student(\"Doe\", \"John\", 543243241, \"Biology\")\n",
    "bio1 = Course(\"Biology 101\", \"Spring\", 2023)\n",
    "jane.add_course(bio1, \"A\")\n",
    "john.add_course(bio1, \"A\")\n",
    "print(bio1)\n",
    "print(bio1.enrollment_count())\n",
    "```\n",
    "should print out \"2\". "
   ]
  },
  {
   "cell_type": "code",
   "execution_count": 8,
   "id": "bcb50bab",
   "metadata": {},
   "outputs": [
    {
     "name": "stdout",
     "output_type": "stream",
     "text": [
      "There are 2 students enrolled in Introduction to Machine Learning: Spring, 2024\n"
     ]
    }
   ],
   "source": [
    "cody = Student(\"Vig\", \"Cody\", 101909650, \"Mathematics\")\n",
    "sana = Student(\"Vaziri\", \"Sana\", 999999999, \"EECS\")\n",
    "cs189 = Course(\"Introduction to Machine Learning\", \"Spring\", 2024)\n",
    "cody.add_course(cs189, \"A\")\n",
    "sana.add_course(cs189, \"A\")\n",
    "print(f\"There are {cs189.student_enrollment()} students enrolled in {cs189}\")"
   ]
  },
  {
   "cell_type": "markdown",
   "id": "53a1cc45",
   "metadata": {},
   "source": [
    "## Problem 2"
   ]
  },
  {
   "cell_type": "markdown",
   "id": "682aecce",
   "metadata": {},
   "source": [
    "### Problem 2.1"
   ]
  },
  {
   "cell_type": "markdown",
   "id": "fba578cc",
   "metadata": {},
   "source": [
    "<b>(20 points)</b> Add the following three methods to the Student class that compares a Student object to another:\n",
    "\n",
    "* `__eq__(self, other)` that will return the result of testing for equality of self.sid and other.sid.\n",
    "* `__lt__(self, other)` that will return the result of self.sid < other.sid.\n",
    "* `__gt__(self, other)` that will return the result of self.sid > other.sid.\n",
    "\n",
    "\n",
    "Make your changes in the `Classes.py` file."
   ]
  },
  {
   "cell_type": "markdown",
   "id": "f4efbc57",
   "metadata": {},
   "source": [
    "### Problem 2.2"
   ]
  },
  {
   "cell_type": "markdown",
   "id": "63cda684",
   "metadata": {},
   "source": [
    "<b>(20 points)</b>\n",
    "With the above 3 methods of Problem 1.2 defined, the list of Student objects should be sorted based on the `sid` class variable. To test this, do the following:\n",
    "\n",
    "* Create 5 Student objects and at least 5 different Class objects. \n",
    "* Add at least 2 courses to each of the Students' course_work dictionaries. \n",
    "* Create a list of the 5 Student objects called `student_list`.\n",
    "* Use a loop to print each of the Student objects.\n",
    "* Call the `list.sort()` method using `student_list.sort()`.\n",
    "* Re-print each of the Student objects.\n",
    "\n",
    "\n"
   ]
  },
  {
   "cell_type": "code",
   "execution_count": 24,
   "id": "e0d32433",
   "metadata": {},
   "outputs": [
    {
     "name": "stdout",
     "output_type": "stream",
     "text": [
      "Original List:\n",
      "~~~~~~~~~~~~~~\n",
      "Carl Gauss (SID: 17771855)\n",
      "Sophie Germain (SID: 17761831)\n",
      "James Maxwell (SID: 18311879)\n",
      "Oliver Heavyside (SID: 18501925)\n",
      "William Hamilton (SID: 18271865)\n",
      "\n",
      "Sorted List:\n",
      "~~~~~~~~~~~~\n",
      "Sophie Germain (SID: 17761831)\n",
      "Carl Gauss (SID: 17771855)\n",
      "William Hamilton (SID: 18271865)\n",
      "James Maxwell (SID: 18311879)\n",
      "Oliver Heavyside (SID: 18501925)\n"
     ]
    }
   ],
   "source": [
    "# Students\n",
    "gauss = Student(\"Gauss\", \"Carl\", 17771855, \"Mathematics\")\n",
    "germain = Student(\"Germain\", \"Sophie\", 17761831, \"Mathematics\")\n",
    "maxwell = Student(\"Maxwell\", \"James\", 18311879, \"Physics\")\n",
    "heavyside = Student(\"Heavyside\", \"Oliver\", 18501925, \"Physics\")\n",
    "hamilton = Student(\"Hamilton\", \"William\", 18271865, \"Electrical Engineering\")\n",
    "\n",
    "# Classes\n",
    "geometry = Course(\"Differential Geometry\", \"Fall\", \"1800\")\n",
    "number_theory = Course(\"Number Theory\", \"Spring\", \"1801\")\n",
    "electromagnetism = Course(\"Electromagnetism\", \"Fall\", \"1840\")\n",
    "mechanics = Course(\"Classical Mechanics\", \"Spring\", \"1860\")\n",
    "calculus = Course(\"Vector Calculus\", \"Fall\", \"1860\")\n",
    "\n",
    "# Add courses\n",
    "gauss.add_course(geometry, \"A+\")\n",
    "gauss.add_course(number_theory, \"A+\")\n",
    "\n",
    "germain.add_course(geometry, \"B+\")\n",
    "germain.add_course(number_theory, \"A\")\n",
    "\n",
    "maxwell.add_course(electromagnetism, \"A+\")\n",
    "maxwell.add_course(calculus, \"A\")\n",
    "\n",
    "heavyside.add_course(mechanics, \"B\")\n",
    "heavyside.add_course(calculus, \"A+\")\n",
    "\n",
    "hamilton.add_course(mechanics, \"B\")\n",
    "hamilton.add_course(calculus, \"F\")\n",
    "\n",
    "# Student list\n",
    "student_list = [gauss, germain, maxwell, heavyside, hamilton]\n",
    "\n",
    "print(\"Original List:\\n~~~~~~~~~~~~~~\")\n",
    "for name in student_list:\n",
    "    print(name)\n",
    "\n",
    "# Sory by student id:\n",
    "student_list.sort()\n",
    "print(\"\\nSorted List:\\n~~~~~~~~~~~~\")\n",
    "for name in student_list:\n",
    "    print(name)"
   ]
  },
  {
   "cell_type": "markdown",
   "id": "315fd892",
   "metadata": {},
   "source": [
    "## Problem 3"
   ]
  },
  {
   "cell_type": "markdown",
   "id": "94197e6c",
   "metadata": {},
   "source": [
    "<b>(20 points) </b>Suppose we are designing a program to play a game with various characters and locations. A Character object will represent each character in the game. A class called Location can represent the Character's location. A class called Items can represent various items in the game. We will visit this again in a later lab. \n",
    "\n",
    "For now, complete the definition of a simple Character class below. "
   ]
  },
  {
   "cell_type": "code",
   "execution_count": 18,
   "id": "7d942881",
   "metadata": {},
   "outputs": [],
   "source": [
    "class Character:\n",
    "    \"\"\" \n",
    "    Represents a Character.\n",
    "    Each Character has a name, description, and a message.\n",
    "\n",
    "    self.name         -    Character's name (a string)\n",
    "    self.description  -    Character's description (a string)\n",
    "    self.message      -    A message the Character has to convey.\n",
    "\n",
    "    A Character is able to\n",
    "\n",
    "    talk(self)        -    Prints out self.message.\n",
    "    __str__(self)     -    Returns a string with self.name and self.description.\n",
    "    \"\"\"\n",
    "\n",
    "    def __init__(self, name, description, message):\n",
    "        \"\"\" Initialize a Character with a name, descirption, and message. \"\"\"\n",
    "        # Your code here\n",
    "        self.name = name\n",
    "        self.description = description\n",
    "        self.message = message\n",
    "\n",
    "    ## Your code for talk() and __str__() definitions here\n",
    "    def talk(self) -> None:\n",
    "        \"\"\" \n",
    "        Prints `self.message`\n",
    "        \"\"\"\n",
    "        print(f\"{self.name} says '{self.message}'\")\n",
    "    \n",
    "    def __str__(self) -> str:\n",
    "        \"\"\" \n",
    "        Returns a string containing `self.name` and `self.description`.\n",
    "        \"\"\"\n",
    "        return f\"{self.name}, {self.description}.\"\n"
   ]
  },
  {
   "cell_type": "code",
   "execution_count": 23,
   "id": "412eea71",
   "metadata": {},
   "outputs": [
    {
     "name": "stdout",
     "output_type": "stream",
     "text": [
      "Link, Hero of Time. \n",
      "\n",
      "Link says 'I cannot speak, I am a silent protagonist.'\n"
     ]
    }
   ],
   "source": [
    "# Create a Character object test the __str__ method by using print()\n",
    "link = Character(\n",
    "    \"Link\", \"Hero of Time\", \"I cannot speak, I am a silent protagonist.\" \n",
    ")\n",
    "print(link, \"\\n\")\n",
    "link.talk()"
   ]
  },
  {
   "cell_type": "markdown",
   "id": "6c743461",
   "metadata": {},
   "source": [
    "## Problem 4"
   ]
  },
  {
   "cell_type": "markdown",
   "id": "70fab400",
   "metadata": {},
   "source": [
    "<b>(10 points) </b> Suppose you are tasked with creating a database to represent clinical charts at a doctor's office. You will take an object-oriented approach to building this database. Think of 2 different classes you might create to help organize your code. What would these classes represent and what kind of data might they hold?\n",
    "\n",
    "Here is an example answer:\n",
    "\n",
    "> I would create a class called Visit representing a particular patient's visit to the doctor's office. This class can hold information such as:\n",
    "> * The visit date - a string\n",
    "> * A list of medication the patient is taking - a list\n",
    "> * Any notes from the doctor - notes\n",
    "> * Follow-up appointment required - a boolean"
   ]
  },
  {
   "cell_type": "markdown",
   "id": "44b7248e",
   "metadata": {},
   "source": [
    "## Solution\n",
    "\n",
    "<u> The following are the classes I would implement if I were designing the database: </u>\n",
    "\n",
    "\n",
    "If there is more than one doctor working at the facility, I would have a class to represent these doctors.\n",
    "```python\n",
    "class Doctor:\n",
    "    \"\"\"\n",
    "    Class to hold information about all doctors that work at the facility.\n",
    "    \"\"\"\n",
    "    def __init__(\n",
    "        self,\n",
    "        first_name: str, \n",
    "        last_name: str,\n",
    "        department: str,\n",
    "    ):\n",
    "        pass\n",
    "```\n",
    "\n",
    "I would also implement a class to hold information for the patients who visit.\n",
    "```python\n",
    "class Patient:\n",
    "    \"\"\"\n",
    "    Class to hold information about all patients who visit the facility.\n",
    "    \"\"\"\n",
    "    def __init__(\n",
    "        self,\n",
    "        first_name: str, \n",
    "        last_name: str,\n",
    "        medical_record_number: int,\n",
    "        insurance: Insurance | None,\n",
    "        primary_care_physician: Doctor,\n",
    "        prescriptions: list[Medication] | None,\n",
    "        next_appointment: Appointment | None,\n",
    "    ):\n",
    "        pass\n",
    "```\n",
    "\n",
    "It might be a good idea to have a class to represent the insurance companies that this office has partnership with. This class could contain the name of the insurance company and a point of contact, but I am not sure what other information is relevant.\n",
    "```python\n",
    "class Insurance:\n",
    "    \"\"\" \n",
    "    Class to hold information about insurance companies.\n",
    "    \"\"\"\n",
    "    def __init__( \n",
    "        name: str,\n",
    "        contact: str,\n",
    "    ):\n",
    "        pass\n",
    "```\n",
    "\n",
    "It would certainly be a good idea to have information about the medication the office prescribes contained within the database.\n",
    "```python\n",
    "class Medication:\n",
    "    \"\"\"\n",
    "    Class to hold prescription medication information.\n",
    "    \"\"\"\n",
    "    def __init__(\n",
    "        self,\n",
    "        medication_name: str,\n",
    "        generic_name: str,\n",
    "        mass_in_mg: int | float,\n",
    "        purpose: str | list[str],\n",
    "        cost: float,\n",
    "    ):\n",
    "        pass\n",
    "```\n",
    "\n",
    "Finally, appointments should also be stored in the database.\n",
    "```python\n",
    "class Appointment:\n",
    "    \"\"\"\n",
    "    Class to hold `Appointment` objects setup by the office.\n",
    "    \"\"\"\n",
    "    def __init__(\n",
    "        self,\n",
    "        doctor_name: Doctor, \n",
    "        patient_name: Patient, \n",
    "        date: datetime, \n",
    "        is_cancelled: bool = False,\n",
    "    ):\n",
    "        pass\n",
    "```"
   ]
  }
 ],
 "metadata": {
  "kernelspec": {
   "display_name": "Python 3 (ipykernel)",
   "language": "python",
   "name": "python3"
  },
  "language_info": {
   "codemirror_mode": {
    "name": "ipython",
    "version": 3
   },
   "file_extension": ".py",
   "mimetype": "text/x-python",
   "name": "python",
   "nbconvert_exporter": "python",
   "pygments_lexer": "ipython3",
   "version": "3.11.6"
  }
 },
 "nbformat": 4,
 "nbformat_minor": 5
}
