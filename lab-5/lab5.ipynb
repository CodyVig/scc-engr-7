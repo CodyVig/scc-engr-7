{
 "cells": [
  {
   "cell_type": "markdown",
   "id": "972deeae",
   "metadata": {},
   "source": [
    "# Lab 5\n"
   ]
  },
  {
   "cell_type": "markdown",
   "id": "ca83e48a",
   "metadata": {},
   "source": [
    "## Problem 1"
   ]
  },
  {
   "cell_type": "markdown",
   "id": "f4177d6b",
   "metadata": {},
   "source": [
    "### Complexity with Nested Loops\n",
    "Here is a function that generats all pairs of 2 from two input lists."
   ]
  },
  {
   "cell_type": "code",
   "execution_count": 2,
   "id": "9e98cfa8",
   "metadata": {},
   "outputs": [],
   "source": [
    "def gen_pairs(lst1, lst2):\n",
    "    \"\"\" Generates all possible pairs of items from two lists.\n",
    "    Returns a set of tuples.\"\"\"\n",
    "    \n",
    "    pairs = set()\n",
    "    for aa in lst1:\n",
    "        for bb in lst2:\n",
    "            if not (aa, bb) in pairs:\n",
    "                pairs.add((aa, bb))\n",
    "    return pairs"
   ]
  },
  {
   "cell_type": "code",
   "execution_count": 3,
   "id": "791a9fe2",
   "metadata": {},
   "outputs": [
    {
     "data": {
      "text/plain": [
       "{(1, 1),\n",
       " (1, 3),\n",
       " (1, 4),\n",
       " (1, 5),\n",
       " (2, 1),\n",
       " (2, 3),\n",
       " (2, 4),\n",
       " (2, 5),\n",
       " (3, 1),\n",
       " (3, 3),\n",
       " (3, 4),\n",
       " (3, 5)}"
      ]
     },
     "execution_count": 3,
     "metadata": {},
     "output_type": "execute_result"
    }
   ],
   "source": [
    "# Example run (notice there are no repeated tuples)\n",
    "gen_pairs([1, 1, 2, 3], [3, 4, 5, 1])"
   ]
  },
  {
   "cell_type": "markdown",
   "id": "377925a6",
   "metadata": {},
   "source": [
    "Let's assume for simplicity that lst1 and lst2 are the same length, `n` for now.\n",
    "\n",
    "Answer the following:\n",
    "* How many times is the outer (line 6) loop run?\n",
    "* How many times is the inner loop (line 7) run?\n",
    "* The `if` statement on line 8 checks if a tuple exists in the set. Check under sets here https://wiki.python.org/moin/TimeComplexity . What is the time complexity of this statement alone?\n",
    "\n",
    "\n",
    "Remember that adding to a set (Line 9) is $O(1)$ \n",
    "\n",
    "\n",
    "Based on your answers, and the fact that loops will multiply complexity, what is the time complexity of this function? "
   ]
  },
  {
   "cell_type": "code",
   "execution_count": null,
   "id": "b4f23d5c",
   "metadata": {},
   "outputs": [],
   "source": []
  },
  {
   "cell_type": "markdown",
   "id": "b1dca2a5",
   "metadata": {},
   "source": [
    "## Problem 2"
   ]
  },
  {
   "cell_type": "markdown",
   "id": "d6d0635e",
   "metadata": {},
   "source": [
    "### Prime numbers, again"
   ]
  },
  {
   "cell_type": "markdown",
   "id": "c86a61c4",
   "metadata": {},
   "source": [
    "The `prime` function from lecture is printed below:\n",
    "    \n",
    "<code>def prime(n):\n",
    "    is_prime = True\n",
    "    # loop through the numbers 2 to (n - 1)\n",
    "    for m in range(2, n):    \n",
    "        # if n is evenly divisible by m, we already know n is not a prime\n",
    "        # so break out of the loop\n",
    "        if n % m == 0:\n",
    "            is_prime = False\n",
    "            break\n",
    "    if is_prime:\n",
    "        print(n, \" is a prime! \")\n",
    "    else:\n",
    "        print(n, \" is not a prime\")\n",
    "    return is_prime\n",
    "</code>\n",
    "\n",
    "This function is a brute-force function that checks all numbers between 2 and (n - 1) to see if $n$ has an divisors. Thus it is $O(n)$.\n",
    "\n",
    "Actually, we really only have to check up to $\\sqrt(n)$ -- an integer can only have one factor that is larger than its square root.\n",
    "\n",
    "Re-write the `prime` function so that it only loops from 2 to $\\sqrt n$ (instead of up to $n - 1$)."
   ]
  },
  {
   "cell_type": "code",
   "execution_count": null,
   "id": "86ce7de1",
   "metadata": {},
   "outputs": [],
   "source": [
    "def prime(n):\n",
    "    \"\"\" Returns if True if n is prime and False otherwise\"\"\"\n",
    "    \n",
    "    ### replace with your code\n",
    "    return False"
   ]
  },
  {
   "cell_type": "markdown",
   "id": "acaf166e",
   "metadata": {},
   "source": [
    "What is the time complexity of this new prime function?"
   ]
  },
  {
   "cell_type": "code",
   "execution_count": null,
   "id": "87b2e41f",
   "metadata": {},
   "outputs": [],
   "source": []
  },
  {
   "cell_type": "markdown",
   "id": "0d4b6105",
   "metadata": {},
   "source": [
    "## Problem 3\n",
    "\n",
    "Complete the function below that will return the smallest number that is a multiple of both x and y. Use a while loop with brute force method that will check all numbers until it encounters one that is a multiple of both x and y."
   ]
  },
  {
   "cell_type": "code",
   "execution_count": null,
   "id": "5579cbfe",
   "metadata": {},
   "outputs": [],
   "source": [
    "def smallest_multiple(x, y):\n",
    "    \"\"\" Returns smallest number that is a multiple of x and y\"\"\"\n",
    "    n = 1\n",
    "    while True:\n",
    "        ## replace wit your code\n",
    "    return n"
   ]
  },
  {
   "cell_type": "code",
   "execution_count": null,
   "id": "376fe3d5",
   "metadata": {},
   "outputs": [],
   "source": [
    "# test smallest_multiple()\n",
    "\n",
    "# smallest_multiple(10, 4) = 20\n",
    "# smallest_multiple(2, 3) = 6\n",
    "# smallest_multiple(3, 14) = 42"
   ]
  },
  {
   "cell_type": "markdown",
   "id": "d90a74a9",
   "metadata": {},
   "source": [
    "### Problem 3.1"
   ]
  },
  {
   "cell_type": "markdown",
   "id": "b372396b",
   "metadata": {},
   "source": [
    "What is the time complexity worst case of smallest_multiple as a function of x and y?"
   ]
  },
  {
   "cell_type": "code",
   "execution_count": null,
   "id": "90f89805",
   "metadata": {},
   "outputs": [],
   "source": []
  },
  {
   "cell_type": "markdown",
   "id": "56c99bfb",
   "metadata": {},
   "source": [
    "## Problem 4"
   ]
  },
  {
   "cell_type": "markdown",
   "id": "9ffa144f",
   "metadata": {},
   "source": [
    "### Write an approximation function"
   ]
  },
  {
   "cell_type": "markdown",
   "id": "b9cd436a",
   "metadata": {},
   "source": [
    "Write a function `approx_log` that will approximate the log base `b` of an input `n` based on an `epsilon` accuracy and `step`. The function should check all numbers \n",
    "\n",
    "Recall that \n",
    "$x = \\log _b a$ means that $b^x = a$\n",
    "\n",
    "Use the `ctr` variable to count how many times the while loop is run. \n",
    "\n",
    "The function should return both `rtn` and `ctr`."
   ]
  },
  {
   "cell_type": "code",
   "execution_count": null,
   "id": "082b0563",
   "metadata": {},
   "outputs": [],
   "source": [
    "# Write your function here\n",
    "def approx_log(b, n, epsilon=0.01, step=0.001):\n",
    "    \"\"\" Find the approximate log base b of n\"\"\"\n",
    "    # start with 1\n",
    "    rtn = 1\n",
    "    ctr = 1\n",
    "    \n",
    "    # use a while loop to continuously check if b ** rtn is close enough to n\n",
    "    ### your code here \n",
    "    while # your code here \n",
    "        ctr = ctr + 1  # increment ctr each time while loop is run\n",
    "    \n",
    "    \n",
    "    return rtn, ctr"
   ]
  },
  {
   "cell_type": "markdown",
   "id": "418d7db3",
   "metadata": {},
   "source": [
    "### Problem 4.2\n",
    "Run the code below to plot the `ctr` variable with increasing input `n` when finding $log_2(n)$. Based on what the plot looks like, what is the time complexity of the `approx_log` function is? Does this make sense based on what the `while` loop is?"
   ]
  },
  {
   "cell_type": "code",
   "execution_count": null,
   "id": "249f4010",
   "metadata": {},
   "outputs": [],
   "source": [
    "import numpy as np\n",
    "import matplotlib.pyplot as plt\n",
    "\n",
    "x_arr = np.linspace(1, 100, 100)\n",
    "\n",
    "b = 2\n",
    "\n",
    "ctr_arr = np.zeros(np.shape(x_arr))\n",
    "for idx, x in enumerate(x_arr):\n",
    "    res, ctr = approx_log(b, x, 0.01, 0.0001)\n",
    "    ctr_arr[idx] = ctr\n",
    "\n",
    "plt.plot(x_arr, ctr_arr)\n",
    "plt.xlabel(\"n  - input to approx_log\")\n",
    "plt.ylabel(\"Counter\")\n",
    "plt.show()"
   ]
  },
  {
   "cell_type": "code",
   "execution_count": null,
   "id": "af940bfb",
   "metadata": {},
   "outputs": [],
   "source": []
  }
 ],
 "metadata": {
  "kernelspec": {
   "display_name": "Python 3",
   "language": "python",
   "name": "python3"
  },
  "language_info": {
   "codemirror_mode": {
    "name": "ipython",
    "version": 3
   },
   "file_extension": ".py",
   "mimetype": "text/x-python",
   "name": "python",
   "nbconvert_exporter": "python",
   "pygments_lexer": "ipython3",
   "version": "3.8.8"
  }
 },
 "nbformat": 4,
 "nbformat_minor": 5
}
