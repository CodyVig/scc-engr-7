{
 "cells": [
  {
   "cell_type": "markdown",
   "id": "972deeae",
   "metadata": {},
   "source": [
    "# Lab 5\n"
   ]
  },
  {
   "cell_type": "markdown",
   "id": "ca83e48a",
   "metadata": {},
   "source": [
    "## Problem 1"
   ]
  },
  {
   "cell_type": "markdown",
   "id": "f4177d6b",
   "metadata": {},
   "source": [
    "### Complexity with Nested Loops\n",
    "Here is a function that generats all pairs of 2 from two input lists."
   ]
  },
  {
   "cell_type": "code",
   "execution_count": 2,
   "id": "9e98cfa8",
   "metadata": {},
   "outputs": [],
   "source": [
    "def gen_pairs(lst1, lst2):\n",
    "    \"\"\" \n",
    "    Generates all possible pairs of items from two lists.\n",
    "    \n",
    "    :return: a set of tuples.\n",
    "    \"\"\"\n",
    "    \n",
    "    pairs = set()\n",
    "    for aa in lst1:\n",
    "        for bb in lst2:\n",
    "            if not (aa, bb) in pairs:\n",
    "                pairs.add((aa, bb))\n",
    "    return pairs"
   ]
  },
  {
   "cell_type": "code",
   "execution_count": 3,
   "id": "791a9fe2",
   "metadata": {},
   "outputs": [
    {
     "data": {
      "text/plain": [
       "{(1, 1),\n",
       " (1, 3),\n",
       " (1, 4),\n",
       " (1, 5),\n",
       " (2, 1),\n",
       " (2, 3),\n",
       " (2, 4),\n",
       " (2, 5),\n",
       " (3, 1),\n",
       " (3, 3),\n",
       " (3, 4),\n",
       " (3, 5)}"
      ]
     },
     "execution_count": 3,
     "metadata": {},
     "output_type": "execute_result"
    }
   ],
   "source": [
    "# Example run (notice there are no repeated tuples)\n",
    "gen_pairs([1, 1, 2, 3], [3, 4, 5, 1])"
   ]
  },
  {
   "cell_type": "markdown",
   "id": "377925a6",
   "metadata": {},
   "source": [
    "Let's assume for simplicity that lst1 and lst2 are the same length, `n` for now.\n",
    "\n",
    "Answer the following:\n",
    "* How many times is the outer (line 6) loop run?\n",
    "* How many times is the inner loop (line 7) run?\n",
    "* The `if` statement on line 8 checks if a tuple exists in the set. Check under sets here https://wiki.python.org/moin/TimeComplexity . What is the time complexity of this statement alone?\n",
    "\n",
    "\n",
    "Remember that adding to a set (Line 9) is $O(1)$ \n",
    "\n",
    "\n",
    "Based on your answers, and the fact that loops will multiply complexity, what is the time complexity of this function? "
   ]
  },
  {
   "cell_type": "markdown",
   "id": "722593fc",
   "metadata": {},
   "source": [
    "#### Solution\n",
    "\n",
    "<b> How many times is the outer loop run? </b>\n",
    "\n",
    "> If there are $n$ elements in `lst1` and the loop runs through all of the elements, the outer loop is run $n$ times.\n",
    "\n",
    "<b> How many times is the inner loop run? </b>\n",
    "\n",
    "> Since we are still accessing *every* element in `lst2`, the loop is run $n$ times.\n",
    "\n",
    "<b> The `if` statement on line 8 checks if a tuple exists in the set. Check under sets here https://wiki.python.org/moin/TimeComplexity. What is the time complexity of this statement alone? </b>\n",
    "\n",
    "> On average, the time complexity is $\\mathcal{O}(1)$. At worst, the time complexity is $\\mathcal{O}(n)$.\n",
    "\n",
    "<b> Based on your answers, and the fact that loops will multiply complexity, what is the time complexity of this function? </b>\n",
    "\n",
    "> From above, the code inside of the loops is run $n^2$ times. If checking for an element achieves its worst time complexity, then each of these $n^2$ loop iterations contains an $\\mathcal{O}(n)$ operation, making the total time complexity $\\mathcal{O}(n^3)$ at worst. On average, though, checking for the existence of an element is $\\mathcal{O}(1)$, in which case the average time complexity of our algorithm is $\\mathcal{O}(n^2)$.\n"
   ]
  },
  {
   "cell_type": "markdown",
   "id": "b1dca2a5",
   "metadata": {},
   "source": [
    "## Problem 2"
   ]
  },
  {
   "cell_type": "markdown",
   "id": "d6d0635e",
   "metadata": {},
   "source": [
    "### Prime numbers, again"
   ]
  },
  {
   "cell_type": "markdown",
   "id": "c86a61c4",
   "metadata": {},
   "source": [
    "The `prime` function from lecture is printed below:\n",
    "    \n",
    "```python\n",
    "def prime(n):\n",
    "    is_prime = True\n",
    "    # loop through the numbers 2 to (n - 1)\n",
    "    for m in range(2, n):    \n",
    "        # if n is evenly divisible by m, we already know n is not a prime\n",
    "        # so break out of the loop\n",
    "        if n % m == 0:\n",
    "            is_prime = False\n",
    "            break\n",
    "    if is_prime:\n",
    "        print(n, \" is a prime! \")\n",
    "    else:\n",
    "        print(n, \" is not a prime\")\n",
    "    return is_prime\n",
    "```\n",
    "\n",
    "This function is a brute-force function that checks all numbers between 2 and (n - 1) to see if $n$ has an divisors. Thus it is $O(n)$.\n",
    "\n",
    "Actually, we really only have to check up to $\\sqrt{n}$ -- an integer can only have one factor that is larger than its square root.\n",
    "\n",
    "Re-write the `prime` function so that it only loops from 2 to $\\sqrt n$ (instead of up to $n - 1$)."
   ]
  },
  {
   "cell_type": "code",
   "execution_count": 45,
   "id": "86ce7de1",
   "metadata": {},
   "outputs": [],
   "source": [
    "from math import sqrt\n",
    "\n",
    "def prime(n):\n",
    "    \"\"\" Returns if True if n is prime and False otherwise\"\"\"\n",
    "    is_prime = True\n",
    "    for m in range(2, int(sqrt(n)) + 1):\n",
    "        if n % m == 0:\n",
    "            is_prime = False\n",
    "            break\n",
    "    if is_prime:\n",
    "        print(f\"{n} is a prime!\")\n",
    "    else:\n",
    "        print(f\"{n} is not a prime!\")\n",
    "    return is_prime"
   ]
  },
  {
   "cell_type": "code",
   "execution_count": 49,
   "id": "aeddcf21",
   "metadata": {},
   "outputs": [
    {
     "name": "stdout",
     "output_type": "stream",
     "text": [
      "2 is a prime!\n",
      "5 is a prime!\n",
      "8 is not a prime!\n",
      "16 is not a prime!\n",
      "103 is a prime!\n"
     ]
    }
   ],
   "source": [
    "# Test to see if `prime` works as intended.\n",
    "\n",
    "test_cases = {\n",
    "    2: True,\n",
    "    5: True,\n",
    "    8: False,\n",
    "    16: False,\n",
    "    103: True\n",
    "}\n",
    "\n",
    "for input, expected in test_cases.items():\n",
    "    assert prime(input) == expected, f\"Failes on input {input}.\""
   ]
  },
  {
   "cell_type": "markdown",
   "id": "acaf166e",
   "metadata": {},
   "source": [
    "What is the time complexity of this new prime function?"
   ]
  },
  {
   "cell_type": "markdown",
   "id": "1a5e0557",
   "metadata": {},
   "source": [
    "#### Solution\n",
    "\n",
    "At worst, the loop in `prime()` will need to be run $\\sqrt{n}$ times. For small ints, the modulo operator `%` is likely $\\mathcal{O}(1)$, so the overall time complexity is $\\mathcal{O}{(\\sqrt{n}})$. However, if the inputs are sufficiently large, the time complexity of `%` isn't precisely known, as far as I can tell. In any case, if its time complexity is $\\mathcal{O}(f(n))$, then the time complexity of `prime()` is $\\mathcal{O}(\\sqrt{n}f(n))$."
   ]
  },
  {
   "cell_type": "markdown",
   "id": "0d4b6105",
   "metadata": {},
   "source": [
    "## Problem 3\n",
    "\n",
    "Complete the function below that will return the smallest number that is a multiple of both x and y. Use a while loop with brute force method that will check all numbers until it encounters one that is a multiple of both x and y."
   ]
  },
  {
   "cell_type": "code",
   "execution_count": 13,
   "id": "5579cbfe",
   "metadata": {},
   "outputs": [],
   "source": [
    "def smallest_multiple(x, y):\n",
    "    \"\"\" Returns smallest number that is a multiple of x and y\"\"\"\n",
    "    n = 1\n",
    "    while True:\n",
    "        ## replace with your code\n",
    "        if n % x == 0 and n % y == 0:\n",
    "            break\n",
    "        n+=1\n",
    "    return n"
   ]
  },
  {
   "cell_type": "code",
   "execution_count": 28,
   "id": "376fe3d5",
   "metadata": {},
   "outputs": [
    {
     "name": "stdout",
     "output_type": "stream",
     "text": [
      "Test cases passed!\n"
     ]
    }
   ],
   "source": [
    "# test smallest_multiple()\n",
    "\n",
    "# smallest_multiple(10, 4) = 20\n",
    "# smallest_multiple(2, 3) = 6\n",
    "# smallest_multiple(3, 14) = 42\n",
    "\n",
    "test_cases = { \n",
    "    (10, 4) : 20,\n",
    "    (2, 3) : 6,\n",
    "    (3, 14) : 42\n",
    "}\n",
    "\n",
    "for input, expected in test_cases.items():\n",
    "    assert (\n",
    "        smallest_multiple(*input) == expected\n",
    "    ), f\"Expected {expected} on {input}, received {smallest_multiple(*input)}.\"\n",
    "\n",
    "print(\"Test cases passed!\")"
   ]
  },
  {
   "cell_type": "markdown",
   "id": "d90a74a9",
   "metadata": {},
   "source": [
    "### Problem 3.1"
   ]
  },
  {
   "cell_type": "markdown",
   "id": "b372396b",
   "metadata": {},
   "source": [
    "What is the time complexity worst case of smallest_multiple as a function of x and y?"
   ]
  },
  {
   "cell_type": "markdown",
   "id": "dbe99f43",
   "metadata": {},
   "source": [
    "#### Solution\n",
    "\n",
    "In general, the least common multiple of two numbers is equal to their product divided by their greatest common divisor:\n",
    "$$\n",
    "\\text{lcm}(x,y) = \\frac{xy}{\\gcd(x,y)}\n",
    "$$\n",
    "\n",
    "`smallest_multiple()` achieves its highest time complexity when the inputs are coprime, i.e., if $\\gcd(x, y) = 1$. In this case, it would take $xy$ divisibility tests (each of which is $\\mathcal{O}(1)$) to terminate the program. This complexity is maximized if $x$ and $y$ differ by $1$. In this case if $\\max(x, y) = n$, this gives an $\\mathcal{O}(n^2)$ algorithm."
   ]
  },
  {
   "cell_type": "markdown",
   "id": "56c99bfb",
   "metadata": {},
   "source": [
    "## Problem 4"
   ]
  },
  {
   "cell_type": "markdown",
   "id": "9ffa144f",
   "metadata": {},
   "source": [
    "### Write an approximation function"
   ]
  },
  {
   "cell_type": "markdown",
   "id": "b9cd436a",
   "metadata": {},
   "source": [
    "Write a function `approx_log` that will approximate the log base `b` of an input `n` based on an `epsilon` accuracy and `step`. The function should check all numbers \n",
    "\n",
    "Recall that \n",
    "$x = \\log _b a$ means that $b^x = a$\n",
    "\n",
    "Use the `ctr` variable to count how many times the while loop is run. \n",
    "\n",
    "The function should return both `rtn` and `ctr`."
   ]
  },
  {
   "cell_type": "code",
   "execution_count": 2,
   "id": "082b0563",
   "metadata": {},
   "outputs": [],
   "source": [
    "# Write your function here\n",
    "def approx_log(b, n, epsilon=0.01, step=0.001):\n",
    "    \"\"\" Find the approximate log base b of n\"\"\"\n",
    "    # start with 0 so that log(base=b, n=1) returns 0\n",
    "    rtn = 0 \n",
    "    ctr = 1\n",
    "\n",
    "    # use a while loop to continuously check if b ** rtn is close enough to n\n",
    "    ### your code here \n",
    "    try:\n",
    "        while abs(b**rtn - n) >= epsilon:\n",
    "            rtn += step\n",
    "            ctr += 1\n",
    "        return rtn, ctr\n",
    "    except OverflowError:\n",
    "        print(f\"No log({b=}, {n=}) found within tolerance.\")\n",
    "        return None, None"
   ]
  },
  {
   "cell_type": "code",
   "execution_count": 81,
   "id": "d5516e8c",
   "metadata": {},
   "outputs": [
    {
     "name": "stdout",
     "output_type": "stream",
     "text": [
      "No log(b=2, n=8.5) found within tolerance.\n"
     ]
    },
    {
     "data": {
      "text/plain": [
       "(None, None)"
      ]
     },
     "execution_count": 81,
     "metadata": {},
     "output_type": "execute_result"
    }
   ],
   "source": [
    "# Test potential overflow error\n",
    "approx_log(b = 2, n = 8.5, epsilon=0.001, step=1)"
   ]
  },
  {
   "cell_type": "markdown",
   "id": "418d7db3",
   "metadata": {},
   "source": [
    "### Problem 4.2\n",
    "Run the code below to plot the `ctr` variable with increasing input `n` when finding $log_2(n)$. Based on what the plot looks like, what is the time complexity of the `approx_log` function is? Does this make sense based on what the `while` loop is?"
   ]
  },
  {
   "cell_type": "code",
   "execution_count": 30,
   "id": "249f4010",
   "metadata": {},
   "outputs": [
    {
     "data": {
      "image/png": "[encoded data removed]",
      "text/plain": [
       "<Figure size 640x480 with 1 Axes>"
      ]
     },
     "metadata": {},
     "output_type": "display_data"
    }
   ],
   "source": [
    "import numpy as np\n",
    "import matplotlib.pyplot as plt\n",
    "\n",
    "x_arr = np.linspace(1, 100, 100)\n",
    "\n",
    "b = 2\n",
    "epsilon = 0.01\n",
    "step = 0.0001\n",
    "\n",
    "ctr_arr = np.zeros(np.shape(x_arr))\n",
    "for idx, x in enumerate(x_arr):\n",
    "    res, ctr = approx_log(b, x, epsilon, step)\n",
    "    ctr_arr[idx] = ctr\n",
    "\n",
    "plt.plot(\n",
    "    x_arr, \n",
    "    ctr_arr, \n",
    "    label=\"Measured Time Complexity\"\n",
    ")\n",
    "\n",
    "plt.plot(\n",
    "    x_arr, \n",
    "    (1 / step) * np.log2(x_arr), \n",
    "    color='red', \n",
    "    linestyle=':', \n",
    "    linewidth=3, \n",
    "    label=\"(step)^{-1} * log(base 2, n)\"\n",
    ")\n",
    "\n",
    "plt.title(\"Time complexity of `approx_log`\")\n",
    "plt.xlabel(\"n  - input to approx_log\")\n",
    "plt.ylabel(\"Counter\")\n",
    "plt.grid()\n",
    "plt.legend(loc='lower right')\n",
    "plt.show()"
   ]
  },
  {
   "cell_type": "markdown",
   "id": "c33be409",
   "metadata": {},
   "source": [
    "#### Solution\n",
    "\n",
    "The plot suggests that the counter is logarithmic in the input size, i.e., that the time complexity of `approx_log` is $\\mathcal{O}(\\log n)$.\n",
    "\n",
    "This is as expected, since we are looping over the values of `rtn` until `b ** rtn` is within `epsilon` of `a`. If we start counting at `rtn = 0` and increment `rtn` by `step` at each iteration, it will take \n",
    "$$\n",
    "(\\text{step})^{-1} \\log_2 n \\in \\mathcal{O}(\\log n)\n",
    "$$\n",
    "operations to terminate the procedure."
   ]
  }
 ],
 "metadata": {
  "kernelspec": {
   "display_name": "Python 3",
   "language": "python",
   "name": "python3"
  },
  "language_info": {
   "codemirror_mode": {
    "name": "ipython",
    "version": 3
   },
   "file_extension": ".py",
   "mimetype": "text/x-python",
   "name": "python",
   "nbconvert_exporter": "python",
   "pygments_lexer": "ipython3",
   "version": "3.11.5"
  }
 },
 "nbformat": 4,
 "nbformat_minor": 5
}
