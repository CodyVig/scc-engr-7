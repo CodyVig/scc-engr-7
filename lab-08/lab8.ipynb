{
 "cells": [
  {
   "cell_type": "markdown",
   "id": "66f09ed2",
   "metadata": {},
   "source": [
    "# Lab 8"
   ]
  },
  {
   "cell_type": "markdown",
   "id": "8d0b977a",
   "metadata": {},
   "source": [
    "# Problem 1"
   ]
  },
  {
   "cell_type": "markdown",
   "id": "4b5e20ce",
   "metadata": {},
   "source": [
    "<b>(15 points) </b> Following the merge sort algorithm, show all the steps for sorting the following unordered list of integers:\n",
    "\n",
    "5, 8, 6, 9, 0, 2, 5, 7\n",
    "\n",
    "Here is merge_sort from lecture for reference\n",
    "\n",
    "```python\n",
    "def merge_sort(lst):\n",
    "    \"\"\" Use the Merge sort algorithm to sort a list\"\"\"\n",
    "    \n",
    "    n = len(lst)\n",
    "\n",
    "    if n < 2:\n",
    "        return lst\n",
    "    \n",
    "    # Sort left and right\n",
    "    left_lst = merge_sort(lst[:n//2])\n",
    "    right_lst = merge_sort(lst[n//2:])\n",
    "    \n",
    "    # Merge the two\n",
    "    merged = []\n",
    "    \n",
    "    ii = 0\n",
    "    jj = 0\n",
    "    while ii < len(left_lst) and jj < len(right_lst):\n",
    "        if left_lst[ii] < right_lst[jj]:\n",
    "            merged.append(left_lst[ii])\n",
    "            ii = ii + 1\n",
    "        else:\n",
    "            merged.append(right_lst[jj])\n",
    "            jj = jj + 1\n",
    "    \n",
    "    while ii < len(left_lst):\n",
    "        merged.append(left_lst[ii])\n",
    "        ii = ii + 1\n",
    "        \n",
    "    while jj < len(right_lst):\n",
    "        merged.append(right_lst[jj])\n",
    "        jj = jj + 1\n",
    "    \n",
    "    return merged\n",
    "```"
   ]
  },
  {
   "cell_type": "markdown",
   "id": "62ab2582",
   "metadata": {},
   "source": [
    "![# title](merge-tree.png)"
   ]
  },
  {
   "cell_type": "markdown",
   "id": "b10cc4c4",
   "metadata": {},
   "source": [
    "Referring to the diagram above, our `merge_sort()` algorithm will travel the left-most branch until the sequence of \"left lists\" `lst = lst[:n//2]` collapses into the base case `[5]`. At this stage, the corresponding \"right list\", `right_lst = merge_sort(lst[n//2:])`, will also return `[8]`, and the remaining recursive call will merge the lists and return `[5, 8]`.\n",
    "\n",
    "We then move one branch up the tree, corresponding to one lower recursive call. Now, `left_lst == [5, 8]` and `right_lst` splits and merges in the same way as described above to return `[6, 9]`. The remainder of this recursive call merges the lists to return `[5, 6, 8, 9]`.\n",
    "\n",
    "The code then moves one branch higher, with `left_lst == [5, 6, 8, 9]` and `right_lst = merge_sort([0, 2, 5, 7])`. Through a similar process described above, `merge_sort([0, 2, 5, 7])` recurses six times further to eventually return `[0, 2, 5, 7]`. Again, the remainder of the code at this depth merges the two sorted lists and returns `[0, 2, 5, 5, 6, 7, 9]`.\n",
    "\n",
    "Essentially, the algortihm looks like this:\n",
    "\n",
    "```python\n",
    "# Sequence of `left_lst = merge_sort(lst[:n//2])`:\n",
    "[5, 8, 6, 9, 0, 2, 5, 7] -> [5, 8, 6, 9] -> [5, 8] -> [5] \n",
    "```\n",
    "\n",
    "&#8595;\n",
    "\n",
    "```python\n",
    "# At recursion level 2\n",
    "left_lst == [5]\n",
    "right_lst = merge_sort([5, 8][n//2:]) == merge_sort([8]) == [8]\n",
    "merged == [5, 8] # Returned to `left_lst` one recursive layer up.\n",
    "```\n",
    "\n",
    "&#8595;\n",
    "\n",
    "```python\n",
    "# At recursion level 1\n",
    "left_lst == [5, 8]\n",
    "right_lst = merge_sort([5, 8, 6, 9][n//2:]) \n",
    "    == merge_sort([6, 9])  \n",
    "    == ... \n",
    "    == [6, 9]\n",
    "merged == [5, 6, 8, 9]  # Returned to `left_lst` one recursive layer up.\n",
    "```\n",
    "\n",
    "&#8595;\n",
    "\n",
    "```python\n",
    "# At recursion level 0 (initial function call)\n",
    "left_lst == [5, 6, 8, 9]\n",
    "right_lst = merge_sort([5, 8, 6, 9, 0, 2, 5, 7][n//2:]) \n",
    "    == merge_sort([0, 2, 5, 7]) \n",
    "    == ... \n",
    "    == [0, 2, 5, 7]\n",
    "merged == [0, 2, 5, 5, 6, 7, 9]  # Returned from `merge_sort()`\n",
    "```"
   ]
  },
  {
   "cell_type": "markdown",
   "id": "98184465",
   "metadata": {},
   "source": [
    "# Problem 2"
   ]
  },
  {
   "cell_type": "markdown",
   "id": "3702856c",
   "metadata": {},
   "source": [
    "<b>(15 points) </b> \n",
    "Here is binary search from lecture:\n",
    "    \n",
    "```python\n",
    "def binary_search(L, elem):\n",
    "\"\"\"Uses the binary search algorithm to search for elem in L\n",
    "Assumes L is sorted. \"\"\"\n",
    "\n",
    "# Base case\n",
    "n = len(L)\n",
    "if n == 1:\n",
    "    return L[0] == elem\n",
    "\n",
    "# Get the middle position in the list\n",
    "m = n // 2\n",
    "\n",
    "if L[m] == elem:\n",
    "    return True\n",
    "elif L[m] > elem:\n",
    "    return binary_search(L[0:m], elem)\n",
    "else:\n",
    "    return binary_search(L[m:], elem)\n",
    "```"
   ]
  },
  {
   "cell_type": "markdown",
   "id": "0a4a58a6",
   "metadata": {},
   "source": [
    "List all recursive calls to `binary_search` when the input list is L = [23, 43, 51, 56, 63, 66, 74, 80, 95, 101] and elem = 92.\n",
    "\n",
    "Repeat for elem = 43."
   ]
  },
  {
   "cell_type": "markdown",
   "id": "f0a7cfff",
   "metadata": {},
   "source": [
    "## Solution\n",
    "\n",
    "### For `elem = 92`\n",
    "\n",
    "* `l = [23, 43, 51, 56, 63, 66, 74, 80, 95, 101]`\n",
    "\n",
    "`l[n//2] == l[5] == 66`, which is less than 92, so we recurse with `l = l[n//2:]`:\n",
    "\n",
    "* `l = [66, 74, 80, 95, 101]`\n",
    "\n",
    "`l[n//2] == l[2] == 80`, which is less than 92, so we recurse with `l = l[n//2:]`:\n",
    "\n",
    "* `l = [80, 95, 101]`\n",
    "\n",
    "`l[n//2] == l[1] == 95`, which is greater than 92, so we recurse with `l = l[:n//2]`:\n",
    "\n",
    "* `l = [80]`.\n",
    "\n",
    "We are now at the base case, and `l[0] != 92`, so the function returns `False`.\n",
    "\n",
    "### For `elem = 43`\n",
    "\n",
    "* `l = [23, 43, 51, 56, 63, 66, 74, 80, 95, 101]`\n",
    "\n",
    "`l[n//2] == l[5] == 66`, which is greater than 43, so we recurse with `l = l[:n//2]`:\n",
    "\n",
    "* `l = [23, 43, 51, 56, 63]`\n",
    "\n",
    "`l[n//2] == l[2] == 51`, which is greater than 43, so we recurse with `l = l[:n//2]`:\n",
    "\n",
    "* `l = [23, 43]`\n",
    "\n",
    "`l[n//2] == l[1] == 43`, which is the number we are looking for, so the function returns `True`."
   ]
  },
  {
   "cell_type": "markdown",
   "id": "3d3b08e6",
   "metadata": {},
   "source": [
    "# Problem 3"
   ]
  },
  {
   "cell_type": "markdown",
   "id": "aaf320c2",
   "metadata": {},
   "source": [
    "<b>(30 points) </b> Use the merge sort algorithm to write a function that will sort a list to tuples of integers. The sorting order should be determined by the sum of the integers in the tuple. For example, (5, 2) should precede (1, 8) and follow (1, 2, 3).\n",
    "\n",
    "An example:\n",
    "```python\n",
    ">>> lst = [(1, 3, 2), (4, 3, 10), (-5, 2, 1), (0, 0, 0)]\n",
    ">>> merge_sort_tuples(lst)\n",
    "[(-5, 2, 1), (0, 0, 0), (1, 3, 2), (4, 3, 10)]\n",
    "```"
   ]
  },
  {
   "cell_type": "code",
   "execution_count": 46,
   "id": "056510d7",
   "metadata": {},
   "outputs": [],
   "source": [
    "from typing import Callable # For function type-hinting\n",
    "\n",
    "def merge_sort_tuples(\n",
    "        lst: list[tuple], \n",
    "        key: Callable[[list], int | float] = lambda x: sum(x), \n",
    "        ascending: bool = True,\n",
    "    ) -> list[tuple]:\n",
    "    \"\"\"\n",
    "    Uses the Merge sort algorithm to sort a list of tuples.\n",
    "\n",
    "    :param lst: The list to be sorted.\n",
    "    :param key: (Optional) A function to specify the sorting criteria.\n",
    "    :param ascending: Whether the order should be ascending or descending.\n",
    "    \"\"\"\n",
    "    \n",
    "    ## TODO Your code here\n",
    "\n",
    "    if ascending:\n",
    "        # Order smallest to largest\n",
    "        ordered = lambda x, y: (x - y) <= 0\n",
    "    else:\n",
    "        # Order largest to smallest\n",
    "        ordered = lambda x, y: (x - y) >= 0\n",
    "\n",
    "    n = len(lst)\n",
    "\n",
    "    if n < 2:\n",
    "        return lst\n",
    "    \n",
    "    # Sort left and right\n",
    "    left_lst = merge_sort_tuples(lst[:n//2], key, ascending)\n",
    "    right_lst = merge_sort_tuples(lst[n//2:], key, ascending)\n",
    "    \n",
    "    # Merge the two\n",
    "    merged = []\n",
    "    \n",
    "    i = 0\n",
    "    j = 0\n",
    "    while i < len(left_lst) and j < len(right_lst):\n",
    "        # Order based on the `key` function\n",
    "        if ordered(key(left_lst[i]), key(right_lst[j])):\n",
    "            merged.append(left_lst[i])\n",
    "            i += 1\n",
    "        else:\n",
    "            merged.append(right_lst[j])\n",
    "            j += 1\n",
    "    \n",
    "    while i < len(left_lst):\n",
    "        merged.append(left_lst[i])\n",
    "        i += 1\n",
    "        \n",
    "    while j < len(right_lst):\n",
    "        merged.append(right_lst[j])\n",
    "        j += 1\n",
    "    \n",
    "    return merged"
   ]
  },
  {
   "cell_type": "code",
   "execution_count": 45,
   "id": "99f6e9db",
   "metadata": {},
   "outputs": [
    {
     "name": "stdout",
     "output_type": "stream",
     "text": [
      "lst = [(1, 3, 2), (4, 3, 10), (-5, 2, 1), (0, 0, 0)]\n",
      "\n",
      "Ascending\n",
      "~~~~~~~~~\n",
      "Ordered by sum of elements: [(-5, 2, 1), (0, 0, 0), (1, 3, 2), (4, 3, 10)]\n",
      "Ordered by sum of squares:  [(0, 0, 0), (1, 3, 2), (-5, 2, 1), (4, 3, 10)]\n",
      "\n",
      "Descending\n",
      "~~~~~~~~~~\n",
      "Ordered by sum of elements: [(4, 3, 10), (1, 3, 2), (0, 0, 0), (-5, 2, 1)]\n",
      "Ordered by sum of squares:  [(4, 3, 10), (-5, 2, 1), (1, 3, 2), (0, 0, 0)]\n"
     ]
    }
   ],
   "source": [
    "lst = [(1, 3, 2), (4, 3, 10), (-5, 2, 1), (0, 0, 0)]\n",
    "\n",
    "lst_sum = merge_sort_tuples(lst)\n",
    "lst_square = merge_sort_tuples(lst, key = lambda x: sum(k**2 for k in x))\n",
    "\n",
    "print(f\"{lst = }\")\n",
    "\n",
    "print(\"\\nAscending\\n~~~~~~~~~\")\n",
    "print(f\"Ordered by sum of elements: {lst_sum}\")\n",
    "print(f\"Ordered by sum of squares:  {lst_square}\")\n",
    "\n",
    "lst_sum = merge_sort_tuples(lst, ascending=False)\n",
    "lst_square = merge_sort_tuples(\n",
    "    lst, key = lambda x: sum(k**2 for k in x), ascending=False\n",
    ")\n",
    "\n",
    "print(\"\\nDescending\\n~~~~~~~~~~\")\n",
    "print(f\"Ordered by sum of elements: {lst_sum}\")\n",
    "print(f\"Ordered by sum of squares:  {lst_square}\")"
   ]
  },
  {
   "cell_type": "markdown",
   "id": "1f0bc12a",
   "metadata": {},
   "source": [
    "# Problem 4"
   ]
  },
  {
   "cell_type": "markdown",
   "id": "6ede29e8",
   "metadata": {},
   "source": [
    "<b>(20 points) </b>\n",
    "Using similar logic as binary search, we can write another searching method called <b>`ternary_search()`</b>:\n",
    "\n",
    "Searching a list `L` for an element `elem`:\n",
    "\n",
    "* Assume `L` is sorted.\n",
    "* Split the list into thirds (first segment of the list, middle segment, last segment).\n",
    "    * Call the splitting indices `m1` and `m2`. \n",
    "* Check if the `L[m2]` is `elem`.\n",
    "* Check if `L[m1]` is `elem`. \n",
    "* Based on the values of `L[m1]` and `L[m2]`, we will only have to search in one of the three segments of L.\n",
    "    * if `L[m2] < elem`, search the last segment using a recursive call to ternary_search.\n",
    "    * if  `L[m1] < elem < L[m2]`, search the middle segment using a recursive call to ternary_search.\n",
    "    * if  `L[m1] > elem`, search the first segment using a recursive call to ternary_search.\n",
    "\n",
    "\n",
    "If L = [5, 8, 11, 14, 17, 20, 23, 54], as an example, the split points are `m1 = 2` and `m2 = 5`. \n",
    "\n",
    "The first segment is [5, 8, 11]. \n",
    "The second segment is [14, 17, 20].\n",
    "The last segment is [20, 23, 54].\n",
    "\n",
    "Complete the `ternary_search()` function below using recursion. "
   ]
  },
  {
   "cell_type": "code",
   "execution_count": 47,
   "id": "e8e1d831",
   "metadata": {},
   "outputs": [],
   "source": [
    "def ternary_search(L, elem):\n",
    "    \"\"\" \n",
    "    Return True or False if elem is in L using ternary search.\n",
    "    Assumes L is sorted. \n",
    "\n",
    "    :param L: The list to examine.\n",
    "    :param elem: The element we want to check for in L.\n",
    "    \"\"\"\n",
    "    \n",
    "    # Length of the list\n",
    "    n = len(L)\n",
    "    \n",
    "    # base cases (if the list is only 1 or 2 elements long)\n",
    "    if n == 1:\n",
    "        return L[0] == elem\n",
    "    if n == 2:\n",
    "        # TODO add your code here\n",
    "        return L[0] == elem or L[1] == elem\n",
    "\n",
    "    # Get the two split locations (splitting list into thirds)\n",
    "    m1 = n // 3\n",
    "    m2 = 2 * n // 3     \n",
    "\n",
    "    if L[m1] == elem:\n",
    "        return True\n",
    "    \n",
    "    if L[m2] == elem:\n",
    "        return True\n",
    "    \n",
    "    # TODO add your code here\n",
    "    if elem < L[m1]:\n",
    "        return ternary_search(L[:m1], elem)\n",
    "    if elem < L[m2]:\n",
    "        return ternary_search(L[m1:m2], elem)\n",
    "    if elem > L[m2]:\n",
    "        return ternary_search(L[m2:], elem)"
   ]
  },
  {
   "cell_type": "code",
   "execution_count": 51,
   "id": "dabfe606",
   "metadata": {},
   "outputs": [
    {
     "name": "stdout",
     "output_type": "stream",
     "text": [
      "lst = [1, 1, 2, 3, 5, 8]\n",
      "\n",
      "\"0 in `lst`\" == False\n",
      "\"1 in `lst`\" == True\n",
      "\"2 in `lst`\" == True\n",
      "\"3 in `lst`\" == True\n",
      "\"4 in `lst`\" == False\n",
      "\"5 in `lst`\" == True\n",
      "\"6 in `lst`\" == False\n",
      "\"7 in `lst`\" == False\n",
      "\"8 in `lst`\" == True\n",
      "\"9 in `lst`\" == False\n"
     ]
    }
   ],
   "source": [
    "\"\"\" \n",
    "To check if `ternary_search()` works\n",
    "\"\"\"\n",
    "\n",
    "lst = [1, 1, 2, 3, 5, 8]\n",
    "\n",
    "print(f\"{lst = }\\n\")\n",
    "\n",
    "for elem in range(10):\n",
    "    print(f\"{elem} in `lst` is {ternary_search(lst, elem)}\")"
   ]
  },
  {
   "cell_type": "markdown",
   "id": "ed164526",
   "metadata": {},
   "source": [
    "Turns out, this is still an $O(\\log n)$ algorithm."
   ]
  },
  {
   "cell_type": "markdown",
   "id": "211657aa",
   "metadata": {},
   "source": [
    "# Problem 5"
   ]
  },
  {
   "cell_type": "markdown",
   "id": "dd06be45",
   "metadata": {},
   "source": [
    "<b>(20 points) </b> Here is recursive Fibonacci function from Lecture 6:\n",
    "\n",
    "```python\n",
    "def fib(n):\n",
    "    \"\"\" Returns the nth Fibonacci number\"\"\"\n",
    "    if n == 0:\n",
    "        return 0\n",
    "    if n == 1:\n",
    "        return 1\n",
    "    else:\n",
    "        return fib(n - 1) + fib(n - 2)\n",
    "```\n",
    "\n",
    "This recursive function is unfortunately $O(2^n)$ (it's very very slow). Even finding the 50th Fibonacci number takes far too long.\n",
    "\n",
    "A better way of finding the Nth Fibonacci number, $F_N$, is to keep track of only the previous two Fibonacci numbers $F_{n-1}$ and $F_{n - 2}$ starting with $F_0$ and $F_1$. Repeat until $F_N$ is found.\n",
    "\n",
    "In words:\n",
    "* Start with $F_{i - 2} = 0$ and  $F_{i - 1} = 1$\n",
    "* Calculate $F_{i} = F_{i - 1} + F_{i - 2}$\n",
    "* Increment $i$\n",
    "    * Update $F_{i - 2}$ and  $F_{i - 1}$\n",
    "* Repeat until i = n\n",
    "\n",
    "This could be implemented using a `while` loop. Complete the function below to calculate $F_n$ and also return the number of times the while loop is run using the `ctr` variable."
   ]
  },
  {
   "cell_type": "code",
   "execution_count": 51,
   "id": "3839e1f8",
   "metadata": {},
   "outputs": [],
   "source": [
    "def fib(n):\n",
    "    \"\"\" Calculate the nth Fibonacci number\"\"\"\n",
    "    f_i_minus_2 = 0\n",
    "    f_i_minus_1 = 1\n",
    "\n",
    "    if n <= 1:\n",
    "        return n, 0\n",
    "    \n",
    "    # ctr will count the number of times the while loop is executed\n",
    "    ctr = 0\n",
    "    i = 2\n",
    "    while (i <= n):\n",
    "        # TODO Add your code here \n",
    "        ctr += 1\n",
    "        i += 1\n",
    "        f_i = f_i_minus_2 + f_i_minus_1\n",
    "        f_i_minus_2 = f_i_minus_1\n",
    "        f_i_minus_1 = f_i\n",
    "\n",
    "    return f_i, ctr"
   ]
  },
  {
   "cell_type": "code",
   "execution_count": 63,
   "id": "fae72c91",
   "metadata": {},
   "outputs": [],
   "source": [
    "\"\"\" \n",
    "For fun, Fibonacci with memoization\n",
    "\"\"\"\n",
    "\n",
    "cache = {}\n",
    "\n",
    "def fib_memo(n):\n",
    "    if not isinstance(n, int):\n",
    "        raise TypeError(f\"{n = } must be an integer.\")\n",
    "    if n < 0:\n",
    "        raise ValueError(f\"{n = } must be nonnegative.\")\n",
    "    if n <= 1:\n",
    "        return n\n",
    "    if n in cache: \n",
    "        return cache.get(n)\n",
    "    \n",
    "    to_return = fib_memo(n-2) + fib_memo(n-1)\n",
    "    cache[n] = to_return\n",
    "    return to_return\n",
    "    "
   ]
  },
  {
   "cell_type": "code",
   "execution_count": 65,
   "id": "93bdbe5e",
   "metadata": {},
   "outputs": [
    {
     "name": "stdout",
     "output_type": "stream",
     "text": [
      "92.2 ns ± 0.836 ns per loop (mean ± std. dev. of 7 runs, 10,000,000 loops each)\n",
      "4.61 µs ± 219 ns per loop (mean ± std. dev. of 7 runs, 100,000 loops each)\n"
     ]
    }
   ],
   "source": [
    "%timeit fib_memo(100)\n",
    "%timeit fib(100) "
   ]
  },
  {
   "cell_type": "markdown",
   "id": "19958690",
   "metadata": {},
   "source": [
    "Below, use matplotlib to create a plot of the `ctr` value versus `n`."
   ]
  },
  {
   "cell_type": "code",
   "execution_count": 88,
   "id": "b883fea0",
   "metadata": {},
   "outputs": [
    {
     "data": {
      "image/png": "[encoded data removed]",
      "text/plain": [
       "<Figure size 640x480 with 1 Axes>"
      ]
     },
     "metadata": {},
     "output_type": "display_data"
    }
   ],
   "source": [
    "import numpy as np\n",
    "import matplotlib.pyplot as plt\n",
    "\n",
    "n_arr = np.linspace(1, 100, 100)\n",
    "ctr_arr = np.zeros(np.shape(n_arr))\n",
    "\n",
    "for idx, n in enumerate(n_arr):\n",
    "    fibn, ctr = fib(n)\n",
    "    ctr_arr[idx] = ctr\n",
    "\n",
    "# TODO Add your code to plot n_arr vs ctr_arr here\n",
    "plt.plot(\n",
    "    n_arr, \n",
    "    ctr_arr, \n",
    "    color = \"black\", \n",
    "    linewidth = 2, \n",
    "    label = \"Measured Time Complexity\"\n",
    ")\n",
    "plt.plot(\n",
    "    n_arr, \n",
    "    n_arr - 1, \n",
    "    color = 'cyan', \n",
    "    linestyle = ':', \n",
    "    linewidth = 3, \n",
    "    label = \"$y = x - 1$\"\n",
    ")\n",
    "\n",
    "plt.title(\"Time complexity of `fib`\")\n",
    "plt.xlabel(\"Number of iterations `ctr`\")\n",
    "plt.ylabel(\"Size of input `n`\")\n",
    "\n",
    "plt.axhline(0, color=\"k\")\n",
    "plt.axvline(0, color=\"k\")\n",
    "\n",
    "plt.xlim(0, 100)\n",
    "plt.ylim(0, 100)\n",
    "\n",
    "plt.legend()\n",
    "plt.grid()"
   ]
  },
  {
   "cell_type": "markdown",
   "id": "8b757e83",
   "metadata": {},
   "source": [
    "What does `ctr` represent?  Based on the plot, what is the time complexity of the new `fib()` function?"
   ]
  },
  {
   "cell_type": "markdown",
   "id": "36e99d6c",
   "metadata": {},
   "source": [
    "## Solution\n",
    "\n",
    "`ctr` counted the number of times the loop is run, i.e., it is a measure of the time complexity of the algorithm. Based on the plot, the time complexity is linear in the input size `n`. Indeed, `ctr` just counts the number of iterations of the while loop, which occurs until `i` is greater than `n`. Since `i` starts at `2` and is incremented each iteration, it takes $(n+1)-2 = n-1$ iterations for `i` to exceed `n`, meaning the number of loop iterations is $n-1$ and so the algorithm is $\\mathcal{O}(n)$"
   ]
  }
 ],
 "metadata": {
  "kernelspec": {
   "display_name": "Python 3 (ipykernel)",
   "language": "python",
   "name": "python3"
  },
  "language_info": {
   "codemirror_mode": {
    "name": "ipython",
    "version": 3
   },
   "file_extension": ".py",
   "mimetype": "text/x-python",
   "name": "python",
   "nbconvert_exporter": "python",
   "pygments_lexer": "ipython3",
   "version": "3.11.6"
  }
 },
 "nbformat": 4,
 "nbformat_minor": 5
}
