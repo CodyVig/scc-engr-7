{
 "cells": [
  {
   "cell_type": "markdown",
   "id": "b048bbef",
   "metadata": {},
   "source": [
    "# Lab 4 - Twenty One Game\n"
   ]
  },
  {
   "cell_type": "markdown",
   "id": "1ae69726",
   "metadata": {},
   "source": [
    "## Game Description"
   ]
  },
  {
   "cell_type": "markdown",
   "id": "5ed20f90",
   "metadata": {},
   "source": [
    "Let's write a program that plays a simplified version of the card game 21. Start by downloading the file `twenty_one.py` (linked in the assignment) and reading every function. Make sure the logic make sense for the functions that are implemented."
   ]
  },
  {
   "cell_type": "markdown",
   "id": "0236793a",
   "metadata": {},
   "source": [
    "## Basic game rules"
   ]
  },
  {
   "cell_type": "markdown",
   "id": "8f8b47e2",
   "metadata": {},
   "source": [
    "<ol>\n",
    "    <li> There are two players in our game, the <b>dealer</b> and the <b>customer</b>, and a deck of 52 cards. </li>\n",
    "<li> Each player has a hand of cards and the hand's score is the sum of the card values.</li>\n",
    "<li> Cards are assigned values as followed:\n",
    "    <ol>\n",
    "    <li> Cards numbered 1-10 have value 1-10. </li>\n",
    "    <li> Kings, Queens, and Jacks have value 10. </li>\n",
    "    <li> Aces have value of 1 or 10 depending on what produces a better score.</li>\n",
    "<li> A player will lose if they have a hand of cards with total score >= 21.</li>\n",
    "        </ol>\n",
    "    </li>\n",
    "<li> Initially, each player is dealt 2 cards. Only one of the dealers cards is visible to the customer. </li>\n",
    "<li> At each round, the customer will decide if they want to draw another card from the deck or not (i.e. if they are worried they will exceed 21, the won't draw a new card).</li>\n",
    "    <li> At each round, the dealer will also decide to draw a card or not. </li>\n",
    "</ol>\n",
    "\n",
    "We will represent a deck of cards as a `set` of `tuples`. The first entry in the tuple is the card's value and the second is the suit. \n",
    "\n",
    "The function `play_21()` has the logic for the game. Whenever a player (the customer or the dealer) draws a  card, their new hand is displayed to the screen and to *us* , but the customer only has access to a single visible card of the dealer's (called `dealer_visible_card`). Any strategy the customer decides to employ can only use this variable (along with the customer's own hand).\n",
    "\n",
    "##  Hand scores\n",
    "\n",
    "A hand's best score is the highest score that is less than or equal to 21. Because the value of aces are either 1 or 10, the best score depends on how many aces are in the hand. Here are some examples: \n",
    "* hand =  {('king', 'hearts'), ('6', 'diamonds')}, score = 10 + 6 = 16\n",
    "* hand = {('ace', 'hearts'), ('ace', 'diamonds'), ('6', 'spades') }, score = 10 + 1 + 6\n",
    "(one ace is a 10 and the other is a one, to get the highest score not exeeding 21)\n",
    "* hand = {('10', 'diamonds'), ('2', 'clubs'), ('ace', 'diamonds')}, score = 10 + 2 + 1 \n",
    "* hand = {('7', 'clubs'), ('4', 'hearts'), ('ace', 'clubs')}, score = 7 + 4 + 10 = 21\n",
    "\n",
    "In the twenty_one.py file, `best_score()` is partially defined.\n",
    "\n",
    "\n",
    "##  Customer and dealer strategies\n",
    "A <b> strategy </b> will be a function that decides whether the the player wants to draw a card or not. The function will return True if they will draw a card and False if not. \n",
    "\n",
    "Here is one possible strategy:\n",
    "* <b>stop-at-n</b> If the current hand has score <= n, draw a card. If the score is > 10, do not draw a card.\n",
    "\n",
    "Any strategy can be implemented as a function that return either True or False. \n",
    "\n",
    "In the twenty_one.py file, `strategy_stop_at()` is defined.\n",
    "\n",
    "\n",
    "Currently, the code in `twenty_one.py` is incomplete. You will have to fill in some of the functions in this assignment. "
   ]
  },
  {
   "cell_type": "markdown",
   "id": "710c26e6",
   "metadata": {},
   "source": [
    "### Testing in the Notebook"
   ]
  },
  {
   "cell_type": "markdown",
   "id": "1e7c03e0",
   "metadata": {},
   "source": [
    "For testing purposes, let's use the IPython extension called autoreload. This will let us automatically reload any code that we change in the `twenty_one.py file`.\n",
    "\n",
    "Before you get started, make sure that your `twenty_one.py` file is in the same directory as this lab4 notebook."
   ]
  },
  {
   "cell_type": "code",
   "execution_count": 23,
   "id": "87eea055",
   "metadata": {},
   "outputs": [],
   "source": [
    "%reload_ext autoreload\n",
    "%autoreload 2"
   ]
  },
  {
   "cell_type": "markdown",
   "id": "6148c5c3",
   "metadata": {},
   "source": [
    "Import the twenty_one.py now"
   ]
  },
  {
   "cell_type": "code",
   "execution_count": 13,
   "id": "fdcc8a66",
   "metadata": {},
   "outputs": [],
   "source": [
    "from twenty_one import *"
   ]
  },
  {
   "cell_type": "markdown",
   "id": "ac86b161",
   "metadata": {},
   "source": [
    "## Problem 1"
   ]
  },
  {
   "cell_type": "markdown",
   "id": "9d8a77ef",
   "metadata": {},
   "source": [
    "<b>(20 points)</b> Look at the current version of `best_score()` function. This function has to return a score based on the rules described above. Currently, there is a `score_without_aces` variable that is set to 0. \n",
    "\n",
    "Add code where `####### Your code for Problem 1 goes here #######` to calculate what `score_without_aces` should be and complete the best_score() function.\n",
    "\n",
    "\n",
    "Here are some sample scores with and without including the aces\n",
    "\n",
    "| Hand | score_without_aces | best_score\n",
    "|----|---|---|\n",
    "| {('queen', 'clubs'), ('6', 'diamonds'), ('10', 'hearts')} | 26 | 26\n",
    "| {('ace', 'hearts'), ('10', 'hearts'), ('3', 'hearts'), ('ace', 'spades')} | 13 | 15\n",
    "| {('jack', 'dimanods'), ('2', 'spades'), ('4', 'spade'), ('7', 'clubs')} | 23 | 23\n",
    "| {('9', 'clubs'), ('5', 'spades'), ('2', 'hearts'), ('ace', 'clubs')} | 16 | 17\n",
    "| {('1', 'dimanod'), ('king', 'spades'), ('ace', 'hearts')} | 11 | 21\n",
    "| {('ace', 'dimanod'), ('ace', 'spades'), ('ace', 'hearts')} | 0 | 21\n",
    "\n",
    "Test your code on a few cases below by running the test_best_score() function defined in twenty_one.py"
   ]
  },
  {
   "cell_type": "code",
   "execution_count": 20,
   "id": "100efa81",
   "metadata": {},
   "outputs": [
    {
     "name": "stdout",
     "output_type": "stream",
     "text": [
      "best_score() passed on test case!\n",
      "best_score() passed on test case!\n",
      "best_score() passed on test case!\n",
      "best_score() passed on test case!\n"
     ]
    }
   ],
   "source": [
    "# run this to test the best_score function on some cases\n",
    "test_best_score()"
   ]
  },
  {
   "cell_type": "markdown",
   "id": "82795842",
   "metadata": {},
   "source": [
    "## Problem 2\n",
    "\n",
    "<b>(30 points)</b> Once you have finished writing `best_score()`, go to the `play_21()` function and remove the lines that say \n",
    "\n",
    "<code>##### TODO remove the next three lines after you finish Problem 1 ####\n",
    "if (best_score(deck)) == 0:\n",
    "    print(' *~*~*~*~*~*~*~ best_score() not yet implemented *~*~*~*~*~*~*~ ')\n",
    "    return False\n",
    "</code>\n",
    "\n",
    "The `play_21` function will play the game and return `True` if the customer wins and `False` if the dealer wins. \n"
   ]
  },
  {
   "cell_type": "code",
   "execution_count": 24,
   "id": "6d004da2",
   "metadata": {
    "scrolled": true
   },
   "outputs": [
    {
     "name": "stdout",
     "output_type": "stream",
     "text": [
      "*********************************\n",
      "~~~~~~~~~~~ Playing 21 ~~~~~~~~~~\n",
      "*********************************\n",
      "\n"
     ]
    },
    {
     "ename": "TypeError",
     "evalue": "Population must be a sequence.  For dicts or sets, use sorted(d).",
     "output_type": "error",
     "traceback": [
      "\u001b[0;31m---------------------------------------------------------------------------\u001b[0m",
      "\u001b[0;31mTypeError\u001b[0m                                 Traceback (most recent call last)",
      "\u001b[1;32m/home/cody/Code/scc-engr-7/lab-4/lab4.ipynb Cell 15\u001b[0m line \u001b[0;36m2\n\u001b[1;32m      <a href='vscode-notebook-cell:/home/cody/Code/scc-engr-7/lab-4/lab4.ipynb#X20sZmlsZQ%3D%3D?line=0'>1</a>\u001b[0m \u001b[39m# Try running the game\u001b[39;00m\n\u001b[0;32m----> <a href='vscode-notebook-cell:/home/cody/Code/scc-engr-7/lab-4/lab4.ipynb#X20sZmlsZQ%3D%3D?line=1'>2</a>\u001b[0m play_21()\n",
      "File \u001b[0;32m~/Code/scc-engr-7/lab-4/twenty_one.py:226\u001b[0m, in \u001b[0;36mplay_21\u001b[0;34m()\u001b[0m\n\u001b[1;32m    223\u001b[0m     \u001b[39mreturn\u001b[39;00m \u001b[39mFalse\u001b[39;00m\n\u001b[1;32m    225\u001b[0m \u001b[39m# deal 2 cards to the customer\u001b[39;00m\n\u001b[0;32m--> 226\u001b[0m customer_hand \u001b[39m=\u001b[39m deal_cards(deck, \u001b[39m2\u001b[39;49m)\n\u001b[1;32m    228\u001b[0m \u001b[39m# deal 2 cards to the dealer\u001b[39;00m\n\u001b[1;32m    229\u001b[0m dealer_hand \u001b[39m=\u001b[39m deal_cards(deck, \u001b[39m2\u001b[39m)\n",
      "File \u001b[0;32m~/Code/scc-engr-7/lab-4/twenty_one.py:48\u001b[0m, in \u001b[0;36mdeal_cards\u001b[0;34m(d, n)\u001b[0m\n\u001b[1;32m     34\u001b[0m \u001b[39mdef\u001b[39;00m \u001b[39mdeal_cards\u001b[39m(d, n\u001b[39m=\u001b[39m\u001b[39m2\u001b[39m):\n\u001b[1;32m     35\u001b[0m \u001b[39m    \u001b[39m\u001b[39m\"\"\"\u001b[39;00m\n\u001b[1;32m     36\u001b[0m \u001b[39m    Returns a hand of n cards taken from the deck d.\u001b[39;00m\n\u001b[1;32m     37\u001b[0m \u001b[39m    The hand and deck are both represented by a set of tuples.\u001b[39;00m\n\u001b[0;32m   (...)\u001b[0m\n\u001b[1;32m     46\u001b[0m \u001b[39m        hand - set of n tuples representing cards\u001b[39;00m\n\u001b[1;32m     47\u001b[0m \u001b[39m    \"\"\"\u001b[39;00m\n\u001b[0;32m---> 48\u001b[0m     hand \u001b[39m=\u001b[39m \u001b[39mset\u001b[39m(sample(d, n))\n\u001b[1;32m     50\u001b[0m     \u001b[39mfor\u001b[39;00m card \u001b[39min\u001b[39;00m hand:\n\u001b[1;32m     51\u001b[0m         d\u001b[39m.\u001b[39mremove(card)\n",
      "File \u001b[0;32m/usr/lib64/python3.11/random.py:439\u001b[0m, in \u001b[0;36mRandom.sample\u001b[0;34m(self, population, k, counts)\u001b[0m\n\u001b[1;32m    415\u001b[0m \u001b[39m# Sampling without replacement entails tracking either potential\u001b[39;00m\n\u001b[1;32m    416\u001b[0m \u001b[39m# selections (the pool) in a list or previous selections in a set.\u001b[39;00m\n\u001b[1;32m    417\u001b[0m \n\u001b[0;32m   (...)\u001b[0m\n\u001b[1;32m    435\u001b[0m \u001b[39m# too many calls to _randbelow(), making them slower and\u001b[39;00m\n\u001b[1;32m    436\u001b[0m \u001b[39m# causing them to eat more entropy than necessary.\u001b[39;00m\n\u001b[1;32m    438\u001b[0m \u001b[39mif\u001b[39;00m \u001b[39mnot\u001b[39;00m \u001b[39misinstance\u001b[39m(population, _Sequence):\n\u001b[0;32m--> 439\u001b[0m     \u001b[39mraise\u001b[39;00m \u001b[39mTypeError\u001b[39;00m(\u001b[39m\"\u001b[39m\u001b[39mPopulation must be a sequence.  \u001b[39m\u001b[39m\"\u001b[39m\n\u001b[1;32m    440\u001b[0m                     \u001b[39m\"\u001b[39m\u001b[39mFor dicts or sets, use sorted(d).\u001b[39m\u001b[39m\"\u001b[39m)\n\u001b[1;32m    441\u001b[0m n \u001b[39m=\u001b[39m \u001b[39mlen\u001b[39m(population)\n\u001b[1;32m    442\u001b[0m \u001b[39mif\u001b[39;00m counts \u001b[39mis\u001b[39;00m \u001b[39mnot\u001b[39;00m \u001b[39mNone\u001b[39;00m:\n",
      "\u001b[0;31mTypeError\u001b[0m: Population must be a sequence.  For dicts or sets, use sorted(d)."
     ]
    }
   ],
   "source": [
    "# Try running the game\n",
    "play_21()"
   ]
  },
  {
   "cell_type": "markdown",
   "id": "695aa7cc",
   "metadata": {},
   "source": [
    "Write a function called `play_n()` that takes an input `n` and calls `play_21()` `n` times and returns the number of times (out of n total) that the customer won. Demonstrate your `play_n` function below."
   ]
  },
  {
   "cell_type": "code",
   "execution_count": 7,
   "id": "e5bc7790",
   "metadata": {},
   "outputs": [
    {
     "name": "stdout",
     "output_type": "stream",
     "text": [
      "~~~ play_n() not yet implemented ~~~\n"
     ]
    }
   ],
   "source": [
    "num_games = 100\n",
    "num_wins = play_n(num_games) "
   ]
  },
  {
   "cell_type": "markdown",
   "id": "0a8b9789",
   "metadata": {},
   "source": [
    "## Problem 3"
   ]
  },
  {
   "cell_type": "markdown",
   "id": "2e346eea",
   "metadata": {},
   "source": [
    "<b>(20 points)</b> This problem is about the game strategy. Take a look at the `play_21()` function. \n",
    "\n",
    "The condition for the `while` loop is that the <b>strategy</b> function returns True:\n",
    "\n",
    "<code>while(strategy_stop_at(customer_hand, 17)):</code>\n",
    "\n",
    "This loop controls if the game continues based on whether the customer decides to keep taking cards or not. The dealer is also drawing cards based on `strategy_stop_at(dealer_hand, 17)`:\n",
    "\n",
    "<code>if strategy_stop_at(dealer_hand, 17):</code>\n",
    "\n",
    "\n",
    "Here's another possible strategy for the customer that is based on dealer's visible card. \n",
    "\n",
    "<b>`strategy_dealer_sensitive` </b> \n",
    "* If the dealer's visible card is 2, 3, 4, 5, 6, or 7 and the current customer's hand is less than 10, draw a card. OR If the dealer's visible card is an ace, 7, 8, 9, 10, king, queen, or jack, and the player's current hand is less than 15, draw a card. \n",
    "* In all other cases, do not draw a card.\n",
    "\n",
    "Complete the definition of the `strategy_dealer_sensitive()` function in `twenty_one.py` and test using the function below. \n",
    "\n",
    "Update the `play_21()` function to use this strategy. Try running `play_n(100)` and record how many games the customer won with this strategy."
   ]
  },
  {
   "cell_type": "code",
   "execution_count": 8,
   "id": "dbf4bbe8",
   "metadata": {},
   "outputs": [
    {
     "name": "stdout",
     "output_type": "stream",
     "text": [
      " ~~~ strategy_dealer_sensitive() not yet implemented ~~~ \n",
      "**** strategy_dealer_sensitive() failed ***\n",
      "\t Hand  {('queen', 'clubs'), ('10', 'hearts'), ('6', 'diamonds')}\n",
      "\t Dealer visible card ('king', 'hearts')\n",
      " ~~~ strategy_dealer_sensitive() not yet implemented ~~~ \n",
      "**** strategy_dealer_sensitive() failed ***\n",
      "\t Hand  {('4', 'diamonds'), ('2', 'clubs')}\n",
      "\t Dealer visible card ('2', 'spades')\n",
      " ~~~ strategy_dealer_sensitive() not yet implemented ~~~ \n",
      "**** strategy_dealer_sensitive() failed ***\n",
      "\t Hand  {('10', 'spades'), ('2', 'diamonds'), ('1', 'clubs')}\n",
      "\t Dealer visible card ('ace', 'hearts')\n",
      " ~~~ strategy_dealer_sensitive() not yet implemented ~~~ \n",
      "**** strategy_dealer_sensitive() failed ***\n",
      "\t Hand  {('10', 'spades'), ('2', 'diamonds'), ('1', 'clubs')}\n",
      "\t Dealer visible card ('2', 'hearts')\n"
     ]
    }
   ],
   "source": [
    "test_strategy_dealer_sensitive()"
   ]
  },
  {
   "cell_type": "code",
   "execution_count": 10,
   "id": "400268e2",
   "metadata": {},
   "outputs": [],
   "source": [
    "# updated play_21() and try running play_n with the newly implemented strategy here"
   ]
  },
  {
   "cell_type": "markdown",
   "id": "2201fd55",
   "metadata": {},
   "source": [
    "## Problem 4"
   ]
  },
  {
   "cell_type": "markdown",
   "id": "1a9978ed",
   "metadata": {},
   "source": [
    "<b>(20 points)</b> Fill in the body of the function called `strategy_conservative` that will return True only if `strategy_stop_at()` with `n = 15` and `strategy_dealer_sensitive()` both return `True`. It will return `False` in all other cases. \n",
    "\n",
    "Test your funciton using the function below. Update the `play_21()` function to use this strategy. Try running `play_n(100)` and record how many games the customer won with this strategy."
   ]
  },
  {
   "cell_type": "code",
   "execution_count": 9,
   "id": "55215778",
   "metadata": {},
   "outputs": [
    {
     "name": "stdout",
     "output_type": "stream",
     "text": [
      " ~~~ strategy_conservative() not yet implemented ~~~ \n",
      "**** strategy_conservative() failed ***\n",
      "\t Hand  {('queen', 'clubs'), ('10', 'hearts'), ('6', 'diamonds')}\n",
      "\t Dealer visible card ('king', 'hearts')\n",
      " ~~~ strategy_conservative() not yet implemented ~~~ \n",
      "**** strategy_conservative() failed ***\n",
      "\t Hand  {('4', 'diamonds'), ('2', 'clubs')}\n",
      "\t Dealer visible card ('2', 'spades')\n",
      " ~~~ strategy_conservative() not yet implemented ~~~ \n",
      "**** strategy_conservative() failed ***\n",
      "\t Hand  {('10', 'spades'), ('2', 'diamonds'), ('1', 'clubs')}\n",
      "\t Dealer visible card ('2', 'hearts')\n"
     ]
    }
   ],
   "source": [
    "test_strategy_conservative()"
   ]
  },
  {
   "cell_type": "code",
   "execution_count": null,
   "id": "fe451066",
   "metadata": {},
   "outputs": [],
   "source": [
    "# updated play_21() and try running play_n with the newly implemented strategy here"
   ]
  },
  {
   "cell_type": "markdown",
   "id": "853a4b9f",
   "metadata": {},
   "source": [
    "## Problem 5"
   ]
  },
  {
   "cell_type": "markdown",
   "id": "b7737bcb",
   "metadata": {},
   "source": [
    "<b>(10 points)</b> In the while loop of the `play_21()` function this line is used to call the `deal_card` function and add the card to the customer_hand. \n",
    "\n",
    "<code> # pick a card for customer\n",
    "customer_hand.update(deal_cards(deck, 1))</code>\n",
    "\n",
    "Here, `customer_hand` is a set of tuples. The function `deal_cards` takes a deck (which is also a set of tuples). Explain in terms of scope how the variable `deck` is updated after the deal_card() method is called."
   ]
  },
  {
   "cell_type": "code",
   "execution_count": null,
   "id": "842f2f8c",
   "metadata": {},
   "outputs": [],
   "source": []
  }
 ],
 "metadata": {
  "kernelspec": {
   "display_name": "Python 3",
   "language": "python",
   "name": "python3"
  },
  "language_info": {
   "codemirror_mode": {
    "name": "ipython",
    "version": 3
   },
   "file_extension": ".py",
   "mimetype": "text/x-python",
   "name": "python",
   "nbconvert_exporter": "python",
   "pygments_lexer": "ipython3",
   "version": "3.11.4"
  }
 },
 "nbformat": 4,
 "nbformat_minor": 5
}
